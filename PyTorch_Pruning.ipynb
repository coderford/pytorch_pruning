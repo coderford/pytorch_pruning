{
  "nbformat": 4,
  "nbformat_minor": 0,
  "metadata": {
    "accelerator": "GPU",
    "colab": {
      "name": "PyTorch Pruning.ipynb",
      "provenance": [],
      "collapsed_sections": [
        "3rPGaKymLDEr",
        "yXMzrks_LB3Q",
        "BlYV2v9HS0s3",
        "FS6uuO16EK9h"
      ],
      "include_colab_link": true
    },
    "kernelspec": {
      "display_name": "Python 3",
      "name": "python3"
    },
    "language_info": {
      "name": "python"
    }
  },
  "cells": [
    {
      "cell_type": "markdown",
      "metadata": {
        "id": "view-in-github",
        "colab_type": "text"
      },
      "source": [
        "<a href=\"https://colab.research.google.com/github/coderford/pytorch_pruning/blob/main/PyTorch_Pruning.ipynb\" target=\"_parent\"><img src=\"https://colab.research.google.com/assets/colab-badge.svg\" alt=\"Open In Colab\"/></a>"
      ]
    },
    {
      "cell_type": "markdown",
      "metadata": {
        "id": "Jjd92aqfCfMs"
      },
      "source": [
        "# Neural Network Pruning with PyTorch\n",
        "\n",
        "In this notebook, we'll implement some neural network pruning methods using PyTorch and test the Lottery Ticket Hypothesis too. We'll be using the LeNet5 architecture, and the MNIST, FashionMNIST and CIFAR10 datasets."
      ]
    },
    {
      "cell_type": "markdown",
      "metadata": {
        "id": "0HH8zpmECh0S"
      },
      "source": [
        "## Imports and stuff"
      ]
    },
    {
      "cell_type": "code",
      "metadata": {
        "id": "g731ouHbAOt_"
      },
      "source": [
        "import copy\n",
        "\n",
        "import numpy as np\n",
        "import torch\n",
        "import torchvision\n",
        "import matplotlib.pyplot as plt\n",
        "\n",
        "import torch.nn as nn\n",
        "import torch.optim as optim\n",
        "import torch.nn.functional as F\n",
        "import torch.nn.utils.prune as prune\n",
        "\n",
        "from torch.utils.data.dataloader import DataLoader\n",
        "from torch.utils.data import random_split\n",
        "%matplotlib inline\n",
        "\n",
        "device = torch.device(\"cuda\" if torch.cuda.is_available() else \"cpu\")"
      ],
      "execution_count": 1,
      "outputs": []
    },
    {
      "cell_type": "code",
      "metadata": {
        "id": "7UK445lEO55r"
      },
      "source": [
        "# Dataset imports\n",
        "from torchvision.datasets import FashionMNIST\n",
        "from torchvision.datasets import MNIST\n",
        "from torchvision.datasets import CIFAR10"
      ],
      "execution_count": 2,
      "outputs": []
    },
    {
      "cell_type": "markdown",
      "metadata": {
        "id": "9eNycLN0_nkR"
      },
      "source": [
        "## The LeNet Architecture"
      ]
    },
    {
      "cell_type": "markdown",
      "metadata": {
        "id": "NdH6S5CYFdCY"
      },
      "source": [
        "The LeNet5 architecture was proposed for the MNIST dataset. The layers are as follows:\n",
        "\n",
        "1. Conv2d with 1 input channel, 6 output channels, 5x5 kernel, 2 padding\n",
        "2. MaxPool  with 2x2 kernel. _Note_: In the original paper, it was a different, subsampling layer. However we'll use max pooling for simplicity\n",
        "3. Conv2d with 6 input channels, 16 output channels, 5x5 kernel, 0 padding\n",
        "4. MaxPool with 2x2 kernel.\n",
        "5. Fully connected layer with 120 outputs\n",
        "6. Fully connected layer with 84 outputs\n",
        "7. Fully connected layer with 10 outputs"
      ]
    },
    {
      "cell_type": "code",
      "metadata": {
        "id": "DwdVsxzxB6nP"
      },
      "source": [
        "class LeNet5(nn.Module):\n",
        "  def __init__(self, input_channels, input_side):\n",
        "    super(LeNet5, self).__init__()\n",
        "    self.input_channels = input_channels\n",
        "    self.input_side = input_side\n",
        "    self.fc_input_size = self.calc_fc_input_side(self.input_side)\n",
        "\n",
        "    # layers\n",
        "    self.conv1 = nn.Conv2d(self.input_channels, 6, 3)\n",
        "    self.conv2 = nn.Conv2d(6, 16, 3)\n",
        "    self.fc1   = nn.Linear(self.fc_input_size, 120)   \n",
        "    self.fc2   = nn.Linear(120, 84)\n",
        "    self.fc3   = nn.Linear(84, 10)\n",
        "\n",
        "  def calc_fc_input_side(self, orig_side):\n",
        "    # first, kernel of size 3, 1 stride, 0 padding applied\n",
        "    side = orig_side - 3 + 1\n",
        "    # then, maxpool2d with kernel of size 2, stride 2\n",
        "    side = side // 2 \n",
        "    # again, kernel of size 3 applied\n",
        "    side = side - 3 + 1\n",
        "    # again, maxpool2d with kernel of size 2, stride 2\n",
        "    side = side // 2\n",
        "    # input to fc layer will be 16 * side * side\n",
        "    return 16 * side * side\n",
        "\n",
        "  def forward(self, x):\n",
        "    x = F.max_pool2d(F.relu(self.conv1(x)), 2)\n",
        "    x = F.max_pool2d(F.relu(self.conv2(x)), 2)\n",
        "    x = x.view(-1, int(x.nelement() / x.shape[0]))   # Flatten (the batch!)\n",
        "    x = F.relu(self.fc1(x))\n",
        "    x = F.relu(self.fc2(x))\n",
        "    x = self.fc3(x)                                  # Why no ReLU? -> would be softmax, but we'll be using cross_entropy... so it works\n",
        "    return x"
      ],
      "execution_count": 3,
      "outputs": []
    },
    {
      "cell_type": "markdown",
      "metadata": {
        "id": "Kew0N8Iz_p9Q"
      },
      "source": [
        "## Hyperparameters"
      ]
    },
    {
      "cell_type": "code",
      "metadata": {
        "id": "HSk63ytRRtZ4"
      },
      "source": [
        "# Hyperparameters\n",
        "lr         = 0.001\n",
        "opt_fn     = optim.Adam\n",
        "n_epochs   = 20\n",
        "loss_fn    = F.cross_entropy\n",
        "batch_size = 128"
      ],
      "execution_count": 4,
      "outputs": []
    },
    {
      "cell_type": "markdown",
      "metadata": {
        "id": "J8I-IH83PQmV"
      },
      "source": [
        "## Data Preparation\n",
        "\n",
        "In this section we'll define some helper functions for loading our datasets. These will be used in the next sections to actually load the data."
      ]
    },
    {
      "cell_type": "code",
      "metadata": {
        "id": "SynvWho_BUul"
      },
      "source": [
        "def split_train_dataset(dataset, val_frac=0.2):\n",
        "  '''\n",
        "  Helper function for splitting training function int train and validation sets\n",
        "  '''\n",
        "  n_samples = len(train_dataset)\n",
        "  n_val     = int(n_samples * val_frac)\n",
        "  n_train   = n_samples - n_val\n",
        "\n",
        "  train_dataset, val_dataset = random_split(train_dataset, [n_train, n_val])\n",
        "  return train_dataset, val_dataset"
      ],
      "execution_count": 5,
      "outputs": []
    },
    {
      "cell_type": "code",
      "metadata": {
        "id": "m1D-cgJe_MnQ"
      },
      "source": [
        "def load_dataset(torchvision_dataset, split_train=True):\n",
        "  '''\n",
        "  Helper function to load a dataset available in torchvision.datasets\n",
        "  '''\n",
        "  train_dataset = torchvision_dataset(\n",
        "      root='data/',\n",
        "      train=True,\n",
        "      download=True,\n",
        "      transform=torchvision.transforms.ToTensor(),\n",
        "  )\n",
        "\n",
        "  test_dataset = torchvision_dataset(\n",
        "      root='data/',\n",
        "      train=False, \n",
        "      download=True,\n",
        "      transform=torchvision.transforms.ToTensor() \n",
        "  )\n",
        "\n",
        "  if split_train:\n",
        "    train_dataset, val_dataset = split_train_dataset(train_dataset)\n",
        "    return train_dataset, val_dataset, test_dataset\n",
        "\n",
        "  # If splitting was not required, return on train and test sets\n",
        "  return train_dataset, test_dataset"
      ],
      "execution_count": 6,
      "outputs": []
    },
    {
      "cell_type": "code",
      "metadata": {
        "id": "NtP6O5PbL35R"
      },
      "source": [
        "# Init MNIST data\n",
        "mnist_train, mnist_test = load_dataset(MNIST, split_train=False)\n",
        "mnist_train_loader = DataLoader(mnist_train, batch_size=batch_size)\n",
        "mnist_test_loader  = DataLoader(mnist_test,  batch_size=len(mnist_test))"
      ],
      "execution_count": null,
      "outputs": []
    },
    {
      "cell_type": "code",
      "metadata": {
        "id": "v6TBBuzaYel2"
      },
      "source": [
        "# Init Fashion-MNIST data\n",
        "fmnist_train, fmnist_test = load_dataset(FashionMNIST, split_train=False)\n",
        "fmnist_train_loader = DataLoader(fmnist_train, batch_size=batch_size)\n",
        "fmnist_test_loader  = DataLoader(fmnist_test,  batch_size=len(fmnist_test))"
      ],
      "execution_count": null,
      "outputs": []
    },
    {
      "cell_type": "code",
      "metadata": {
        "id": "xo0lAGfoYiCd"
      },
      "source": [
        "# Init CIFAR10 data\n",
        "cifar10_train, cifar10_test = load_dataset(CIFAR10, split_train=False)\n",
        "cifar10_train_loader = DataLoader(cifar10_train, batch_size=batch_size)\n",
        "cifar10_test_loader  = DataLoader(cifar10_test,  batch_size=len(cifar10_test))"
      ],
      "execution_count": null,
      "outputs": []
    },
    {
      "cell_type": "markdown",
      "metadata": {
        "id": "Ef-dbJ-FEf3-"
      },
      "source": [
        "## Utility Functions"
      ]
    },
    {
      "cell_type": "markdown",
      "metadata": {
        "id": "dNeU_9ryEkgF"
      },
      "source": [
        "Here are several utility functions we'll be using throughout the notebook."
      ]
    },
    {
      "cell_type": "code",
      "metadata": {
        "id": "CX7AHpeiEeeJ"
      },
      "source": [
        "def count_model_params(model):\n",
        "  count = 0\n",
        "  for p in model.parameters():\n",
        "    count += len(p.view(-1))\n",
        "  return count"
      ],
      "execution_count": 10,
      "outputs": []
    },
    {
      "cell_type": "code",
      "metadata": {
        "id": "meTqO4CgPU9n"
      },
      "source": [
        "def test_accuracy(model, test_loader):\n",
        "  '''\n",
        "  Returns accuracy on test dataset. Assumes that test_loader has single batch\n",
        "  containing the whole test dataset.\n",
        "  '''\n",
        "  acc = -1\n",
        "  for images, labels in test_loader:\n",
        "    images = images.to(device)\n",
        "    preds = torch.argmax(model(images.to(device=device)), axis=1)\n",
        "    correct_count = torch.sum((preds == labels.to(device=device)).float())\n",
        "    acc = correct_count.item()/ len(preds)\n",
        "    break\n",
        "  return acc"
      ],
      "execution_count": 11,
      "outputs": []
    },
    {
      "cell_type": "code",
      "metadata": {
        "id": "WeRTgZjhuJOw"
      },
      "source": [
        "def calculate_sparsity(model):\n",
        "  total0 = 0\n",
        "  total  = 0\n",
        "  for name, module in model.named_modules():\n",
        "    if isinstance(module, nn.Conv2d) or isinstance(module, nn.Linear):\n",
        "      total0 += torch.sum(module.weight == 0).cpu().detach().item()\n",
        "      total  += module.weight.nelement()\n",
        "  return total0 / total"
      ],
      "execution_count": 12,
      "outputs": []
    },
    {
      "cell_type": "code",
      "metadata": {
        "id": "62DRqG2ft8J7"
      },
      "source": [
        "def plot_prune_histories(histories, labels, title=None):\n",
        "  for history, label in zip(histories, labels):\n",
        "    plt.plot([x[0] for x in history], [x[1] for x in history], label=label)\n",
        "  plt.xlabel('Sparsity')\n",
        "  plt.title(title)\n",
        "  plt.ylabel('Test Accuracy')\n",
        "  if(len(labels) > 1):\n",
        "    plt.legend()\n",
        "  plt.show()"
      ],
      "execution_count": 13,
      "outputs": []
    },
    {
      "cell_type": "markdown",
      "metadata": {
        "id": "AnofWdL-Tk0B"
      },
      "source": [
        "## Training"
      ]
    },
    {
      "cell_type": "markdown",
      "metadata": {
        "id": "3UV55wO8Qr5K"
      },
      "source": [
        "### Fit Function"
      ]
    },
    {
      "cell_type": "markdown",
      "metadata": {
        "id": "rxf7JorjKdG2"
      },
      "source": [
        "As usual, we'll define a `fit` function for training our model"
      ]
    },
    {
      "cell_type": "code",
      "metadata": {
        "id": "_b8GoAIfTi9p"
      },
      "source": [
        "def fit(model, dloader, n_epochs, opt_fn, loss_fn, lr=0.01, print_every=1):\n",
        "  opt = opt_fn(model.parameters(), lr)\n",
        "  loss_history = []\n",
        "\n",
        "  for epoch in range(n_epochs):\n",
        "    total_loss = 0\n",
        "    n_batches  = 0\n",
        "\n",
        "    for xb, yb in dloader:\n",
        "      xb, yb = xb.to(device), yb.to(device)\n",
        "      preds = model(xb)\n",
        "      loss  = loss_fn(preds, yb)\n",
        "      loss.backward()\n",
        "\n",
        "      total_loss += loss.item()\n",
        "      n_batches  += 1\n",
        "\n",
        "      opt.step()\n",
        "      opt.zero_grad()\n",
        "\n",
        "    avg_loss = total_loss / n_batches\n",
        "    loss_history.append(avg_loss)\n",
        "    if (epoch + 1) % print_every == 0:\n",
        "      print(\"Epoch [{}/{}]. \\tAverage loss: {:.4f}\".format(epoch+1, n_epochs, avg_loss))"
      ],
      "execution_count": 14,
      "outputs": []
    },
    {
      "cell_type": "markdown",
      "metadata": {
        "id": "CUPPlyWlVOKS"
      },
      "source": [
        "### MNIST"
      ]
    },
    {
      "cell_type": "code",
      "metadata": {
        "colab": {
          "base_uri": "https://localhost:8080/"
        },
        "id": "ka1LcLzEVUxt",
        "outputId": "7a79782c-a7d4-4649-c31a-a0eab2d517f8"
      },
      "source": [
        "# Init model\n",
        "mnist_model = LeNet5(1, 28).to(device)\n",
        "\n",
        "# Print a count of the number of parameters\n",
        "print('Parameters in LeNet for MNIST:', count_model_params(mnist_model))"
      ],
      "execution_count": null,
      "outputs": [
        {
          "output_type": "stream",
          "text": [
            "Parameters in LeNet for MNIST: 60074\n"
          ],
          "name": "stdout"
        }
      ]
    },
    {
      "cell_type": "code",
      "metadata": {
        "colab": {
          "base_uri": "https://localhost:8080/"
        },
        "id": "5uGKl0edZsZ7",
        "outputId": "276f8763-255b-4b4c-ff50-2c0c2713f742"
      },
      "source": [
        "# Train\n",
        "fit(mnist_model, mnist_train_loader, n_epochs, opt_fn, loss_fn, lr=lr)"
      ],
      "execution_count": null,
      "outputs": [
        {
          "output_type": "stream",
          "text": [
            "Epoch [1/20]. \tAverage loss: 0.5448\n",
            "Epoch [2/20]. \tAverage loss: 0.1502\n",
            "Epoch [3/20]. \tAverage loss: 0.1003\n",
            "Epoch [4/20]. \tAverage loss: 0.0776\n",
            "Epoch [5/20]. \tAverage loss: 0.0642\n",
            "Epoch [6/20]. \tAverage loss: 0.0545\n",
            "Epoch [7/20]. \tAverage loss: 0.0475\n",
            "Epoch [8/20]. \tAverage loss: 0.0423\n",
            "Epoch [9/20]. \tAverage loss: 0.0371\n",
            "Epoch [10/20]. \tAverage loss: 0.0324\n",
            "Epoch [11/20]. \tAverage loss: 0.0288\n",
            "Epoch [12/20]. \tAverage loss: 0.0261\n",
            "Epoch [13/20]. \tAverage loss: 0.0227\n",
            "Epoch [14/20]. \tAverage loss: 0.0201\n",
            "Epoch [15/20]. \tAverage loss: 0.0186\n",
            "Epoch [16/20]. \tAverage loss: 0.0175\n",
            "Epoch [17/20]. \tAverage loss: 0.0158\n",
            "Epoch [18/20]. \tAverage loss: 0.0150\n",
            "Epoch [19/20]. \tAverage loss: 0.0124\n",
            "Epoch [20/20]. \tAverage loss: 0.0127\n"
          ],
          "name": "stdout"
        }
      ]
    },
    {
      "cell_type": "code",
      "metadata": {
        "colab": {
          "base_uri": "https://localhost:8080/"
        },
        "id": "5__7kYAEhAyX",
        "outputId": "9ed45364-6117-4056-946e-ad8f49cc3d54"
      },
      "source": [
        "# Let's try it on the test set:\n",
        "print(f'MNIST Test accuracy: {100*test_accuracy(mnist_model, mnist_test_loader):.2f}%')"
      ],
      "execution_count": null,
      "outputs": [
        {
          "output_type": "stream",
          "text": [
            "MNIST Test accuracy: 98.61%\n"
          ],
          "name": "stdout"
        }
      ]
    },
    {
      "cell_type": "markdown",
      "metadata": {
        "id": "5l9hoixMCXxG"
      },
      "source": [
        "Before moving on to pruning, let's save this trained model, just so we won't have to train it again in case we destroy it during pruning."
      ]
    },
    {
      "cell_type": "code",
      "metadata": {
        "id": "dq8jnymtCiCs"
      },
      "source": [
        "torch.save(mnist_model, 'LeNet_MNIST.pt')"
      ],
      "execution_count": null,
      "outputs": []
    },
    {
      "cell_type": "markdown",
      "metadata": {
        "id": "TVLRenE0QzNj"
      },
      "source": [
        "### Fashion-MNIST"
      ]
    },
    {
      "cell_type": "code",
      "metadata": {
        "colab": {
          "base_uri": "https://localhost:8080/"
        },
        "id": "eb7Z46b7REFh",
        "outputId": "ff506063-7a3b-4c51-f997-e0a0514154be"
      },
      "source": [
        "# Init model\n",
        "fmnist_model = LeNet5(1, 28).to(device)\n",
        "\n",
        "# Print a count of the number of parameters\n",
        "print('Parameters in LeNet for F-MNIST:', count_model_params(fmnist_model))"
      ],
      "execution_count": null,
      "outputs": [
        {
          "output_type": "stream",
          "text": [
            "Parameters in LeNet for F-MNIST: 60074\n"
          ],
          "name": "stdout"
        }
      ]
    },
    {
      "cell_type": "code",
      "metadata": {
        "colab": {
          "base_uri": "https://localhost:8080/"
        },
        "id": "KXjDD057RcFa",
        "outputId": "23211be8-05f7-4735-b4c9-e9f62f357c0b"
      },
      "source": [
        "# Train\n",
        "fit(fmnist_model, fmnist_train_loader, n_epochs, opt_fn, loss_fn, lr=lr)"
      ],
      "execution_count": null,
      "outputs": [
        {
          "output_type": "stream",
          "text": [
            "Epoch [1/20]. \tAverage loss: 0.8170\n",
            "Epoch [2/20]. \tAverage loss: 0.5008\n",
            "Epoch [3/20]. \tAverage loss: 0.4380\n",
            "Epoch [4/20]. \tAverage loss: 0.3969\n",
            "Epoch [5/20]. \tAverage loss: 0.3693\n",
            "Epoch [6/20]. \tAverage loss: 0.3487\n",
            "Epoch [7/20]. \tAverage loss: 0.3319\n",
            "Epoch [8/20]. \tAverage loss: 0.3183\n",
            "Epoch [9/20]. \tAverage loss: 0.3064\n",
            "Epoch [10/20]. \tAverage loss: 0.2966\n",
            "Epoch [11/20]. \tAverage loss: 0.2880\n",
            "Epoch [12/20]. \tAverage loss: 0.2804\n",
            "Epoch [13/20]. \tAverage loss: 0.2731\n",
            "Epoch [14/20]. \tAverage loss: 0.2659\n",
            "Epoch [15/20]. \tAverage loss: 0.2597\n",
            "Epoch [16/20]. \tAverage loss: 0.2536\n",
            "Epoch [17/20]. \tAverage loss: 0.2480\n",
            "Epoch [18/20]. \tAverage loss: 0.2428\n",
            "Epoch [19/20]. \tAverage loss: 0.2376\n",
            "Epoch [20/20]. \tAverage loss: 0.2325\n"
          ],
          "name": "stdout"
        }
      ]
    },
    {
      "cell_type": "code",
      "metadata": {
        "colab": {
          "base_uri": "https://localhost:8080/"
        },
        "id": "GIhZDipoRdv8",
        "outputId": "ec6e8e01-0a91-4ff2-8d12-ba0d261bacc9"
      },
      "source": [
        "# Let's try it on the test set\n",
        "print(f'F-MNIST Test accuracy: {100*test_accuracy(fmnist_model, fmnist_test_loader):.2f}%')"
      ],
      "execution_count": null,
      "outputs": [
        {
          "output_type": "stream",
          "text": [
            "F-MNIST Test accuracy: 88.80%\n"
          ],
          "name": "stdout"
        }
      ]
    },
    {
      "cell_type": "code",
      "metadata": {
        "id": "8ANeoI1FUREH"
      },
      "source": [
        "torch.save(fmnist_model, 'LeNet_FMNIST.pt')"
      ],
      "execution_count": null,
      "outputs": []
    },
    {
      "cell_type": "markdown",
      "metadata": {
        "id": "t73_Qo7lQ4qO"
      },
      "source": [
        "### CIFAR-10"
      ]
    },
    {
      "cell_type": "code",
      "metadata": {
        "colab": {
          "base_uri": "https://localhost:8080/"
        },
        "id": "Kd79m9w4UDKf",
        "outputId": "a241343d-9ad4-47c4-febd-dcb71ac3fb4f"
      },
      "source": [
        "# Init model\n",
        "cifar10_model = LeNet5(3, 32).to(device)\n",
        "\n",
        "# Print a count of the number of parameters\n",
        "print('Parameters in LeNet for CIFAR10:', count_model_params(cifar10_model))"
      ],
      "execution_count": null,
      "outputs": [
        {
          "output_type": "stream",
          "text": [
            "Parameters in LeNet for CIFAR10: 81302\n"
          ],
          "name": "stdout"
        }
      ]
    },
    {
      "cell_type": "code",
      "metadata": {
        "colab": {
          "base_uri": "https://localhost:8080/"
        },
        "id": "yCRq2AP8UgWx",
        "outputId": "48291088-5f45-43de-816a-ea4497e0b33c"
      },
      "source": [
        "# For CIFAR10, we'll train for 50 itertions\n",
        "fit(cifar10_model, cifar10_train_loader, 50, opt_fn, loss_fn, lr=lr)"
      ],
      "execution_count": null,
      "outputs": [
        {
          "output_type": "stream",
          "text": [
            "Epoch [1/50]. \tAverage loss: 1.8658\n",
            "Epoch [2/50]. \tAverage loss: 1.6052\n",
            "Epoch [3/50]. \tAverage loss: 1.4953\n",
            "Epoch [4/50]. \tAverage loss: 1.3996\n",
            "Epoch [5/50]. \tAverage loss: 1.3140\n",
            "Epoch [6/50]. \tAverage loss: 1.2440\n",
            "Epoch [7/50]. \tAverage loss: 1.1905\n",
            "Epoch [8/50]. \tAverage loss: 1.1466\n",
            "Epoch [9/50]. \tAverage loss: 1.1100\n",
            "Epoch [10/50]. \tAverage loss: 1.0787\n",
            "Epoch [11/50]. \tAverage loss: 1.0524\n",
            "Epoch [12/50]. \tAverage loss: 1.0290\n",
            "Epoch [13/50]. \tAverage loss: 1.0070\n",
            "Epoch [14/50]. \tAverage loss: 0.9874\n",
            "Epoch [15/50]. \tAverage loss: 0.9693\n",
            "Epoch [16/50]. \tAverage loss: 0.9533\n",
            "Epoch [17/50]. \tAverage loss: 0.9385\n",
            "Epoch [18/50]. \tAverage loss: 0.9216\n",
            "Epoch [19/50]. \tAverage loss: 0.9070\n",
            "Epoch [20/50]. \tAverage loss: 0.8923\n",
            "Epoch [21/50]. \tAverage loss: 0.8785\n",
            "Epoch [22/50]. \tAverage loss: 0.8654\n",
            "Epoch [23/50]. \tAverage loss: 0.8542\n",
            "Epoch [24/50]. \tAverage loss: 0.8415\n",
            "Epoch [25/50]. \tAverage loss: 0.8304\n",
            "Epoch [26/50]. \tAverage loss: 0.8193\n",
            "Epoch [27/50]. \tAverage loss: 0.8093\n",
            "Epoch [28/50]. \tAverage loss: 0.8005\n",
            "Epoch [29/50]. \tAverage loss: 0.7955\n",
            "Epoch [30/50]. \tAverage loss: 0.7896\n",
            "Epoch [31/50]. \tAverage loss: 0.7817\n",
            "Epoch [32/50]. \tAverage loss: 0.7734\n",
            "Epoch [33/50]. \tAverage loss: 0.7613\n",
            "Epoch [34/50]. \tAverage loss: 0.7507\n",
            "Epoch [35/50]. \tAverage loss: 0.7407\n",
            "Epoch [36/50]. \tAverage loss: 0.7314\n",
            "Epoch [37/50]. \tAverage loss: 0.7242\n",
            "Epoch [38/50]. \tAverage loss: 0.7197\n",
            "Epoch [39/50]. \tAverage loss: 0.7152\n",
            "Epoch [40/50]. \tAverage loss: 0.7132\n",
            "Epoch [41/50]. \tAverage loss: 0.7075\n",
            "Epoch [42/50]. \tAverage loss: 0.6997\n",
            "Epoch [43/50]. \tAverage loss: 0.6908\n",
            "Epoch [44/50]. \tAverage loss: 0.6843\n",
            "Epoch [45/50]. \tAverage loss: 0.6803\n",
            "Epoch [46/50]. \tAverage loss: 0.6762\n",
            "Epoch [47/50]. \tAverage loss: 0.6697\n",
            "Epoch [48/50]. \tAverage loss: 0.6629\n",
            "Epoch [49/50]. \tAverage loss: 0.6536\n",
            "Epoch [50/50]. \tAverage loss: 0.6472\n"
          ],
          "name": "stdout"
        }
      ]
    },
    {
      "cell_type": "code",
      "metadata": {
        "colab": {
          "base_uri": "https://localhost:8080/"
        },
        "id": "oRNh2TEjUZ4_",
        "outputId": "9174e7a6-50c3-4205-e99e-7ec58ccdd925"
      },
      "source": [
        "# Let's try it on the test set\n",
        "print(f'CIFAR-10 Test accuracy: {100*test_accuracy(cifar10_model, cifar10_test_loader):.2f}%')"
      ],
      "execution_count": null,
      "outputs": [
        {
          "output_type": "stream",
          "text": [
            "CIFAR-10 Test accuracy: 61.76%\n"
          ],
          "name": "stdout"
        }
      ]
    },
    {
      "cell_type": "code",
      "metadata": {
        "id": "PvDqxlpFUw8_"
      },
      "source": [
        "torch.save(cifar10_model, 'LeNet_CIFAR10.pt')"
      ],
      "execution_count": null,
      "outputs": []
    },
    {
      "cell_type": "markdown",
      "metadata": {
        "id": "Sehuueaftulu"
      },
      "source": [
        "## Magnitude Based Pruning\n",
        "\n",
        "With a trained model in hand, let's get to pruning proper. We'll perform global pruning, since that seems to work best in most cases.\n",
        "\n"
      ]
    },
    {
      "cell_type": "markdown",
      "metadata": {
        "id": "oPjLS5l9sVey"
      },
      "source": [
        "### Functions"
      ]
    },
    {
      "cell_type": "code",
      "metadata": {
        "id": "42GpYFsdtbiz"
      },
      "source": [
        "def get_parameters_to_prune(model):\n",
        "  params = []\n",
        "  for name, module in model.named_modules():\n",
        "    if isinstance(module, nn.Conv2d) or isinstance(module, nn.Linear):\n",
        "      params.append((module, 'weight'))\n",
        "  return params"
      ],
      "execution_count": 20,
      "outputs": []
    },
    {
      "cell_type": "code",
      "metadata": {
        "id": "iLIIvnChrFxT"
      },
      "source": [
        "def prune_gradually(model, method, test_loader, importance_scores=None, prune_frac=0.1, sparsity_threshold=0.01):\n",
        "  history = []\n",
        "  history.append((0, test_accuracy(model, test_loader)))\n",
        "\n",
        "  parameters_to_prune = get_parameters_to_prune(model)\n",
        "  while 1 - calculate_sparsity(model) > sparsity_threshold:\n",
        "    prune.global_unstructured(\n",
        "        parameters_to_prune,\n",
        "        pruning_method=method,\n",
        "        importance_scores=importance_scores,\n",
        "        amount=prune_frac,  \n",
        "    )\n",
        "\n",
        "    acc = test_accuracy(model, test_loader)\n",
        "    sparsity = calculate_sparsity(model)\n",
        "    print(\"At %.2f\"%(100*sparsity)+\"%\"+\" sparsity, accuracy is %.2f\"%(100*acc)+\"%\")\n",
        "    history.append((sparsity, acc))\n",
        "  \n",
        "  return history"
      ],
      "execution_count": 21,
      "outputs": []
    },
    {
      "cell_type": "markdown",
      "metadata": {
        "id": "RtNsYS7sDQMK"
      },
      "source": [
        "We'll prune the model gradually (10% at a time), and keep track of the test performance."
      ]
    },
    {
      "cell_type": "markdown",
      "metadata": {
        "id": "7p8DbnlPu0CX"
      },
      "source": [
        "### Custom pruning class"
      ]
    },
    {
      "cell_type": "code",
      "metadata": {
        "id": "XBLYbh0HuzGY"
      },
      "source": [
        "class MyL1PruningMethod(prune.BasePruningMethod):\n",
        "  '''\n",
        "  Prunes 'amount' fraction of weights with lowest magnitude\n",
        "  '''\n",
        "  PRUNING_TYPE = 'unstructured'\n",
        "\n",
        "  def __init__(self, amount):\n",
        "    self.amount = amount\n",
        "\n",
        "  def compute_mask(self, t, default_mask):\n",
        "    # Note: t is the tensor of importance scores, equal to the parameters by default\n",
        "\n",
        "    n_prune = int(self.amount * t.nelement())\n",
        "    _, prune_indices = torch.topk(torch.abs(t).view(-1), k=n_prune, largest=False)\n",
        "\n",
        "    mask = default_mask.clone()\n",
        "    mask.view(-1)[prune_indices] = 0\n",
        "    return mask"
      ],
      "execution_count": 18,
      "outputs": []
    },
    {
      "cell_type": "markdown",
      "metadata": {
        "id": "_GFTDhPgsbIH"
      },
      "source": [
        "### MNIST"
      ]
    },
    {
      "cell_type": "code",
      "metadata": {
        "id": "L3EJOU1juNPz"
      },
      "source": [
        "mnist_model = torch.load('LeNet_MNIST.pt').to(device)"
      ],
      "execution_count": null,
      "outputs": []
    },
    {
      "cell_type": "code",
      "metadata": {
        "colab": {
          "base_uri": "https://localhost:8080/"
        },
        "id": "okOrT60Asowe",
        "outputId": "7f2206f4-46a7-4d40-c7f9-86b3c5cf8ccf"
      },
      "source": [
        "mnist_prune_history = prune_gradually(\n",
        "    mnist_model, \n",
        "    MyL1PruningMethod, \n",
        "    mnist_test_loader, \n",
        "    prune_frac=0.1, \n",
        "    sparsity_threshold=0.05\n",
        ")"
      ],
      "execution_count": null,
      "outputs": [
        {
          "output_type": "stream",
          "text": [
            "At 10.00% sparsity, accuracy is 98.58%\n",
            "At 19.00% sparsity, accuracy is 98.59%\n",
            "At 27.10% sparsity, accuracy is 98.60%\n",
            "At 34.39% sparsity, accuracy is 98.60%\n",
            "At 40.95% sparsity, accuracy is 98.51%\n",
            "At 46.85% sparsity, accuracy is 98.57%\n",
            "At 52.17% sparsity, accuracy is 98.69%\n",
            "At 56.95% sparsity, accuracy is 98.62%\n",
            "At 61.26% sparsity, accuracy is 98.56%\n",
            "At 65.13% sparsity, accuracy is 98.47%\n",
            "At 68.62% sparsity, accuracy is 98.40%\n",
            "At 71.75% sparsity, accuracy is 98.51%\n",
            "At 74.58% sparsity, accuracy is 98.28%\n",
            "At 77.12% sparsity, accuracy is 98.25%\n",
            "At 79.41% sparsity, accuracy is 97.91%\n",
            "At 81.47% sparsity, accuracy is 97.71%\n",
            "At 83.32% sparsity, accuracy is 96.74%\n",
            "At 84.99% sparsity, accuracy is 95.47%\n",
            "At 86.49% sparsity, accuracy is 94.47%\n",
            "At 87.84% sparsity, accuracy is 91.82%\n",
            "At 89.05% sparsity, accuracy is 87.00%\n",
            "At 90.15% sparsity, accuracy is 89.62%\n",
            "At 91.13% sparsity, accuracy is 76.59%\n",
            "At 92.02% sparsity, accuracy is 73.05%\n",
            "At 92.82% sparsity, accuracy is 61.22%\n",
            "At 93.53% sparsity, accuracy is 54.81%\n",
            "At 94.18% sparsity, accuracy is 50.28%\n",
            "At 94.76% sparsity, accuracy is 40.78%\n",
            "At 95.28% sparsity, accuracy is 39.62%\n"
          ],
          "name": "stdout"
        }
      ]
    },
    {
      "cell_type": "code",
      "metadata": {
        "id": "_jn75JRkqWjU"
      },
      "source": [
        "torch.save(mnist_prune_history, 'mnist_prune_history.pkl')"
      ],
      "execution_count": null,
      "outputs": []
    },
    {
      "cell_type": "markdown",
      "metadata": {
        "id": "uBT_CpGfwQzX"
      },
      "source": [
        "Let's make a graph to see how quickly accuracy drops with increasing sparsity:"
      ]
    },
    {
      "cell_type": "code",
      "metadata": {
        "colab": {
          "base_uri": "https://localhost:8080/",
          "height": 295
        },
        "id": "DcHWXKxvwQT1",
        "outputId": "dbcb5bfa-a0eb-4314-b3c5-e488821f18c9"
      },
      "source": [
        "plot_prune_histories([mnist_prune_history], ['MNIST'], title='MNIST, Magnitude-based')"
      ],
      "execution_count": null,
      "outputs": [
        {
          "output_type": "display_data",
          "data": {
            "image/png": "[encoded data removed]",
            "text/plain": [
              "<Figure size 432x288 with 1 Axes>"
            ]
          },
          "metadata": {
            "tags": [],
            "needs_background": "light"
          }
        }
      ]
    },
    {
      "cell_type": "markdown",
      "metadata": {
        "id": "IjPTIkunvSFQ"
      },
      "source": [
        "### Fashion-MNIST"
      ]
    },
    {
      "cell_type": "code",
      "metadata": {
        "id": "QFhZi62NvQ-_"
      },
      "source": [
        "fmnist_model = torch.load('LeNet_FMNIST.pt').to(device)"
      ],
      "execution_count": null,
      "outputs": []
    },
    {
      "cell_type": "code",
      "metadata": {
        "colab": {
          "base_uri": "https://localhost:8080/"
        },
        "id": "FRot6Ia3vce7",
        "outputId": "0f029984-d96a-46cc-af0f-ab9e26001af0"
      },
      "source": [
        "fmnist_prune_history = prune_gradually(\n",
        "    fmnist_model, \n",
        "    MyL1PruningMethod, \n",
        "    fmnist_test_loader, \n",
        "    prune_frac=0.1, \n",
        "    sparsity_threshold=0.05\n",
        ")"
      ],
      "execution_count": null,
      "outputs": [
        {
          "output_type": "stream",
          "text": [
            "At 10.00% sparsity, accuracy is 88.78%\n",
            "At 19.00% sparsity, accuracy is 88.80%\n",
            "At 27.10% sparsity, accuracy is 88.80%\n",
            "At 34.39% sparsity, accuracy is 88.73%\n",
            "At 40.95% sparsity, accuracy is 88.54%\n",
            "At 46.85% sparsity, accuracy is 88.25%\n",
            "At 52.17% sparsity, accuracy is 87.80%\n",
            "At 56.95% sparsity, accuracy is 87.86%\n",
            "At 61.26% sparsity, accuracy is 86.31%\n",
            "At 65.13% sparsity, accuracy is 86.74%\n",
            "At 68.62% sparsity, accuracy is 86.09%\n",
            "At 71.75% sparsity, accuracy is 85.42%\n",
            "At 74.58% sparsity, accuracy is 85.87%\n",
            "At 77.12% sparsity, accuracy is 85.23%\n",
            "At 79.41% sparsity, accuracy is 82.25%\n",
            "At 81.47% sparsity, accuracy is 80.25%\n",
            "At 83.32% sparsity, accuracy is 77.66%\n",
            "At 84.99% sparsity, accuracy is 71.95%\n",
            "At 86.49% sparsity, accuracy is 72.60%\n",
            "At 87.84% sparsity, accuracy is 66.24%\n",
            "At 89.05% sparsity, accuracy is 61.59%\n",
            "At 90.15% sparsity, accuracy is 61.21%\n",
            "At 91.13% sparsity, accuracy is 61.50%\n",
            "At 92.02% sparsity, accuracy is 55.36%\n",
            "At 92.82% sparsity, accuracy is 35.71%\n",
            "At 93.53% sparsity, accuracy is 38.36%\n",
            "At 94.18% sparsity, accuracy is 28.96%\n",
            "At 94.76% sparsity, accuracy is 27.27%\n",
            "At 95.28% sparsity, accuracy is 22.32%\n"
          ],
          "name": "stdout"
        }
      ]
    },
    {
      "cell_type": "code",
      "metadata": {
        "id": "UrEcbSbaqjEr"
      },
      "source": [
        "torch.save(fmnist_prune_history, 'fmnist_prune_history.pkl')"
      ],
      "execution_count": null,
      "outputs": []
    },
    {
      "cell_type": "code",
      "metadata": {
        "colab": {
          "base_uri": "https://localhost:8080/",
          "height": 295
        },
        "id": "oYRATTaYvnr-",
        "outputId": "aaee4d6f-8fb3-4cf6-f616-93c24afeddad"
      },
      "source": [
        "plot_prune_histories([fmnist_prune_history], ['Fashion-MNIST'], title='Fashion-MNIST, Magnitude-based')"
      ],
      "execution_count": null,
      "outputs": [
        {
          "output_type": "display_data",
          "data": {
            "image/png": "[encoded data removed]",
            "text/plain": [
              "<Figure size 432x288 with 1 Axes>"
            ]
          },
          "metadata": {
            "tags": [],
            "needs_background": "light"
          }
        }
      ]
    },
    {
      "cell_type": "markdown",
      "metadata": {
        "id": "3Lcx831jv76F"
      },
      "source": [
        "### CIFAR10"
      ]
    },
    {
      "cell_type": "code",
      "metadata": {
        "id": "kcanwpTIv-LF"
      },
      "source": [
        "cifar10_model = torch.load('LeNet_CIFAR10.pt').to(device)"
      ],
      "execution_count": null,
      "outputs": []
    },
    {
      "cell_type": "code",
      "metadata": {
        "id": "4xnwRHhywLVA",
        "colab": {
          "base_uri": "https://localhost:8080/"
        },
        "outputId": "f7efc78a-ae9e-4a12-c12e-c83b0d7e45c0"
      },
      "source": [
        "cifar10_prune_history = prune_gradually(\n",
        "    cifar10_model, \n",
        "    MyL1PruningMethod, \n",
        "    cifar10_test_loader, \n",
        "    prune_frac=0.1, \n",
        "    sparsity_threshold=0.05\n",
        ")"
      ],
      "execution_count": null,
      "outputs": [
        {
          "output_type": "stream",
          "text": [
            "At 10.00% sparsity, accuracy is 61.79%\n",
            "At 19.00% sparsity, accuracy is 61.25%\n",
            "At 27.10% sparsity, accuracy is 61.74%\n",
            "At 34.39% sparsity, accuracy is 61.71%\n",
            "At 40.95% sparsity, accuracy is 62.45%\n",
            "At 46.85% sparsity, accuracy is 61.80%\n",
            "At 52.17% sparsity, accuracy is 59.01%\n",
            "At 56.95% sparsity, accuracy is 59.23%\n",
            "At 61.25% sparsity, accuracy is 58.44%\n",
            "At 65.13% sparsity, accuracy is 56.74%\n",
            "At 68.61% sparsity, accuracy is 54.39%\n",
            "At 71.75% sparsity, accuracy is 48.84%\n",
            "At 74.58% sparsity, accuracy is 42.37%\n",
            "At 77.12% sparsity, accuracy is 42.73%\n",
            "At 79.41% sparsity, accuracy is 30.44%\n",
            "At 81.46% sparsity, accuracy is 20.46%\n",
            "At 83.32% sparsity, accuracy is 15.94%\n",
            "At 84.99% sparsity, accuracy is 13.96%\n",
            "At 86.49% sparsity, accuracy is 16.14%\n",
            "At 87.84% sparsity, accuracy is 13.86%\n",
            "At 89.05% sparsity, accuracy is 14.74%\n",
            "At 90.15% sparsity, accuracy is 12.38%\n",
            "At 91.13% sparsity, accuracy is 12.53%\n",
            "At 92.02% sparsity, accuracy is 12.41%\n",
            "At 92.82% sparsity, accuracy is 10.17%\n",
            "At 93.53% sparsity, accuracy is 10.21%\n",
            "At 94.18% sparsity, accuracy is 10.00%\n",
            "At 94.76% sparsity, accuracy is 10.11%\n",
            "At 95.28% sparsity, accuracy is 10.01%\n"
          ],
          "name": "stdout"
        }
      ]
    },
    {
      "cell_type": "code",
      "metadata": {
        "id": "o3k5gXX_gNTM"
      },
      "source": [
        "torch.save(cifar10_prune_history, 'cifar10_prune_history.pkl')"
      ],
      "execution_count": null,
      "outputs": []
    },
    {
      "cell_type": "code",
      "metadata": {
        "id": "-XZAfZdAwXsu",
        "colab": {
          "base_uri": "https://localhost:8080/",
          "height": 295
        },
        "outputId": "8517dc24-0902-49a0-f923-2359c5bfd457"
      },
      "source": [
        "plot_prune_histories([cifar10_prune_history], ['CIFAR10'], title='CIFAR10, Magnitude-based')"
      ],
      "execution_count": null,
      "outputs": [
        {
          "output_type": "display_data",
          "data": {
            "image/png": "[encoded data removed]",
            "text/plain": [
              "<Figure size 432x288 with 1 Axes>"
            ]
          },
          "metadata": {
            "tags": [],
            "needs_background": "light"
          }
        }
      ]
    },
    {
      "cell_type": "markdown",
      "metadata": {
        "id": "Lu5LZjNawjRK"
      },
      "source": [
        "Accuracy falls off even faster here."
      ]
    },
    {
      "cell_type": "markdown",
      "metadata": {
        "id": "qrsOb4DqwqVm"
      },
      "source": [
        "### All three"
      ]
    },
    {
      "cell_type": "code",
      "metadata": {
        "id": "0Ef5K0GxwpSp",
        "colab": {
          "base_uri": "https://localhost:8080/",
          "height": 295
        },
        "outputId": "1e48549f-8a08-4f61-bbd2-af3f993612f8"
      },
      "source": [
        "# Plot all three together\n",
        "plot_prune_histories(\n",
        "    [mnist_prune_history, fmnist_prune_history, cifar10_prune_history], \n",
        "    ['MNIST', 'Fashion-MNIST', 'CIFAR10'], \n",
        "    title='Magnitude-based pruning'\n",
        ")"
      ],
      "execution_count": null,
      "outputs": [
        {
          "output_type": "display_data",
          "data": {
            "image/png": "[encoded data removed]",
            "text/plain": [
              "<Figure size 432x288 with 1 Axes>"
            ]
          },
          "metadata": {
            "tags": [],
            "needs_background": "light"
          }
        }
      ]
    },
    {
      "cell_type": "markdown",
      "metadata": {
        "id": "Fq10swu6KApn"
      },
      "source": [
        "## Optimal Brain Damage\n",
        "\n",
        "In this section, we'll implement the Optimal Brain Damage (Le Cun _et al._, 1990) method for pruning the weights. "
      ]
    },
    {
      "cell_type": "markdown",
      "metadata": {
        "id": "L1p9TLhbxd1w"
      },
      "source": [
        "### Functions"
      ]
    },
    {
      "cell_type": "code",
      "metadata": {
        "id": "3CbRlSD51CKI"
      },
      "source": [
        "def get_differentiable_loss(model, loss_fn, dloader):\n",
        "  '''\n",
        "  Calculates and returns a loss tensor. Assumes that dloader\n",
        "  has only 1 batch, consisting of the entire data.\n",
        "  '''\n",
        "\n",
        "  for xb, yb in dloader:\n",
        "    xb, yb = xb.to(device), yb.to(device)\n",
        "    preds = model(xb)\n",
        "    loss = loss_fn(preds, yb)\n",
        "    break\n",
        "  return loss"
      ],
      "execution_count": null,
      "outputs": []
    },
    {
      "cell_type": "code",
      "metadata": {
        "id": "FTCUMsIAPuif"
      },
      "source": [
        "def calculate_grads(model, loss):\n",
        "  grad_dict = {}\n",
        "\n",
        "  for name, module in model.named_modules():\n",
        "    if isinstance(module, nn.Conv2d) or isinstance(module, nn.Linear):\n",
        "      grad_dict[name+'.weight'] = torch.autograd.grad(\n",
        "          loss, \n",
        "          module.weight, \n",
        "          create_graph=True,\n",
        "          retain_graph=True,\n",
        "          only_inputs=True\n",
        "      )[0]\n",
        "  return grad_dict"
      ],
      "execution_count": null,
      "outputs": []
    },
    {
      "cell_type": "code",
      "metadata": {
        "id": "Bq0TkhkcWBsU"
      },
      "source": [
        "def calculate_hessian_diags(model, grad_dict, verbose=True, print_every=100):\n",
        "  hessian_diag_dict = {}\n",
        "\n",
        "  for name, module in model.named_modules():\n",
        "    if isinstance(module, nn.Conv2d) or isinstance(module, nn.Linear):\n",
        "      hessian_diag_dict[name+'.weight'] = torch.zeros(module.weight.shape)\n",
        "\n",
        "      if verbose:\n",
        "        print('Calculating Hessian diagonal for module:', name, 'with %d values'%(len(module.weight.view(-1))))\n",
        "      for idx in range(len(module.weight.view(-1))):\n",
        "        if (idx + 1)%print_every == 0 and verbose:\n",
        "          print('\\tidx %d/%d'%(idx+1, len(module.weight.view(-1))))\n",
        "        hessian_diag_dict[name+'.weight'].view(-1)[idx] = torch.autograd.grad(\n",
        "            grad_dict[name+'.weight'].view(-1)[idx],\n",
        "            module.weight,\n",
        "            create_graph=True,\n",
        "            only_inputs=True\n",
        "        )[0].view(-1)[idx].item()\n",
        "  return hessian_diag_dict"
      ],
      "execution_count": null,
      "outputs": []
    },
    {
      "cell_type": "code",
      "metadata": {
        "id": "VhxV5WUQ014q"
      },
      "source": [
        "def calculate_saliencies(model, hessian_diag_dict):\n",
        "  saliency_dict = {}\n",
        "  for name, module in model.named_modules():\n",
        "    if isinstance(module, nn.Conv2d) or isinstance(module, nn.Linear):\n",
        "      hess_key = name+'.weight'\n",
        "      saliency_dict[(module, 'weight')] = 0.5*hessian_diag_dict[hess_key].to(device) * torch.square(module.weight)\n",
        "  return saliency_dict"
      ],
      "execution_count": null,
      "outputs": []
    },
    {
      "cell_type": "markdown",
      "metadata": {
        "id": "JKIYz_zO7q_2"
      },
      "source": [
        "### SaliencyPruner class"
      ]
    },
    {
      "cell_type": "code",
      "metadata": {
        "id": "AjloxuPk7XiO"
      },
      "source": [
        "class SaliencyPruner(prune.BasePruningMethod):\n",
        "  '''\n",
        "  Prunes 'amount' fraction of weights with lowest saliency\n",
        "  '''\n",
        "  PRUNING_TYPE = 'unstructured'\n",
        "\n",
        "  def __init__(self, amount):\n",
        "    self.amount = amount\n",
        "\n",
        "  def compute_mask(self, t, default_mask):\n",
        "    # Note: t is the tensor of importance scores, equal to the parameters by default\n",
        "\n",
        "    n_prune = int(self.amount * t.nelement())\n",
        "    _, prune_indices = torch.topk(t.view(-1), k=n_prune, largest=False)\n",
        "\n",
        "    mask = default_mask.clone()\n",
        "    mask.view(-1)[prune_indices] = 0\n",
        "    return mask"
      ],
      "execution_count": null,
      "outputs": []
    },
    {
      "cell_type": "markdown",
      "metadata": {
        "id": "Gde2QZWHzYRe"
      },
      "source": [
        "### MNIST"
      ]
    },
    {
      "cell_type": "markdown",
      "metadata": {
        "id": "DCKAaLVUO7l3"
      },
      "source": [
        "For OBD, we need the loss on the whole dataset, and then calculate the saliencies of the weights with respect to that loss."
      ]
    },
    {
      "cell_type": "code",
      "metadata": {
        "id": "CvLtzTAozId5"
      },
      "source": [
        "mnist_loader_full = DataLoader(\n",
        "    mnist_train,\n",
        "    batch_size=len(mnist_train)\n",
        ")"
      ],
      "execution_count": null,
      "outputs": []
    },
    {
      "cell_type": "code",
      "metadata": {
        "id": "rQEN6N6czb2N"
      },
      "source": [
        "mnist_model = torch.load('LeNet_MNIST.pt').to(device)"
      ],
      "execution_count": null,
      "outputs": []
    },
    {
      "cell_type": "code",
      "metadata": {
        "id": "yKv6MAQJzq_C"
      },
      "source": [
        "mnist_loss = get_differentiable_loss(mnist_model, loss_fn, mnist_loader_full)"
      ],
      "execution_count": null,
      "outputs": []
    },
    {
      "cell_type": "markdown",
      "metadata": {
        "id": "NGQmFqFaUebl"
      },
      "source": [
        "With the total loss in hand, let's try to compute the gradient of the loss with respect to the parameters in the model."
      ]
    },
    {
      "cell_type": "code",
      "metadata": {
        "id": "-1hJSJeOPgFT"
      },
      "source": [
        "mnist_grad_dict = calculate_grads(mnist_model, mnist_loss)"
      ],
      "execution_count": null,
      "outputs": []
    },
    {
      "cell_type": "markdown",
      "metadata": {
        "id": "KoXxXMUtZfFQ"
      },
      "source": [
        "We now have the gradients of the total loss for each parameter. Now, we need to compute the diagonal of the hessian of the total loss w.r.t the parameters."
      ]
    },
    {
      "cell_type": "code",
      "metadata": {
        "id": "1ixfjzvTbbF4",
        "colab": {
          "base_uri": "https://localhost:8080/"
        },
        "outputId": "ea24cea8-6652-4a4b-9df9-6bfdff4c67b0"
      },
      "source": [
        "mnist_hessian_diag = calculate_hessian_diags(mnist_model, mnist_grad_dict, print_every=500)"
      ],
      "execution_count": null,
      "outputs": [
        {
          "output_type": "stream",
          "text": [
            "Calculating Hessian diagonal for module: conv1 with 54 values\n",
            "Calculating Hessian diagonal for module: conv2 with 864 values\n",
            "\tidx 500/864\n",
            "Calculating Hessian diagonal for module: fc1 with 48000 values\n",
            "\tidx 500/48000\n",
            "\tidx 1000/48000\n",
            "\tidx 1500/48000\n",
            "\tidx 2000/48000\n",
            "\tidx 2500/48000\n",
            "\tidx 3000/48000\n",
            "\tidx 3500/48000\n",
            "\tidx 4000/48000\n",
            "\tidx 4500/48000\n",
            "\tidx 5000/48000\n",
            "\tidx 5500/48000\n",
            "\tidx 6000/48000\n",
            "\tidx 6500/48000\n",
            "\tidx 7000/48000\n",
            "\tidx 7500/48000\n",
            "\tidx 8000/48000\n",
            "\tidx 8500/48000\n",
            "\tidx 9000/48000\n",
            "\tidx 9500/48000\n",
            "\tidx 10000/48000\n",
            "\tidx 10500/48000\n",
            "\tidx 11000/48000\n",
            "\tidx 11500/48000\n",
            "\tidx 12000/48000\n",
            "\tidx 12500/48000\n",
            "\tidx 13000/48000\n",
            "\tidx 13500/48000\n",
            "\tidx 14000/48000\n",
            "\tidx 14500/48000\n",
            "\tidx 15000/48000\n",
            "\tidx 15500/48000\n",
            "\tidx 16000/48000\n",
            "\tidx 16500/48000\n",
            "\tidx 17000/48000\n",
            "\tidx 17500/48000\n",
            "\tidx 18000/48000\n",
            "\tidx 18500/48000\n",
            "\tidx 19000/48000\n",
            "\tidx 19500/48000\n",
            "\tidx 20000/48000\n",
            "\tidx 20500/48000\n",
            "\tidx 21000/48000\n",
            "\tidx 21500/48000\n",
            "\tidx 22000/48000\n",
            "\tidx 22500/48000\n",
            "\tidx 23000/48000\n",
            "\tidx 23500/48000\n",
            "\tidx 24000/48000\n",
            "\tidx 24500/48000\n",
            "\tidx 25000/48000\n",
            "\tidx 25500/48000\n",
            "\tidx 26000/48000\n",
            "\tidx 26500/48000\n",
            "\tidx 27000/48000\n",
            "\tidx 27500/48000\n",
            "\tidx 28000/48000\n",
            "\tidx 28500/48000\n",
            "\tidx 29000/48000\n",
            "\tidx 29500/48000\n",
            "\tidx 30000/48000\n",
            "\tidx 30500/48000\n",
            "\tidx 31000/48000\n",
            "\tidx 31500/48000\n",
            "\tidx 32000/48000\n",
            "\tidx 32500/48000\n",
            "\tidx 33000/48000\n",
            "\tidx 33500/48000\n",
            "\tidx 34000/48000\n",
            "\tidx 34500/48000\n",
            "\tidx 35000/48000\n",
            "\tidx 35500/48000\n",
            "\tidx 36000/48000\n",
            "\tidx 36500/48000\n",
            "\tidx 37000/48000\n",
            "\tidx 37500/48000\n",
            "\tidx 38000/48000\n",
            "\tidx 38500/48000\n",
            "\tidx 39000/48000\n",
            "\tidx 39500/48000\n",
            "\tidx 40000/48000\n",
            "\tidx 40500/48000\n",
            "\tidx 41000/48000\n",
            "\tidx 41500/48000\n",
            "\tidx 42000/48000\n",
            "\tidx 42500/48000\n",
            "\tidx 43000/48000\n",
            "\tidx 43500/48000\n",
            "\tidx 44000/48000\n",
            "\tidx 44500/48000\n",
            "\tidx 45000/48000\n",
            "\tidx 45500/48000\n",
            "\tidx 46000/48000\n",
            "\tidx 46500/48000\n",
            "\tidx 47000/48000\n",
            "\tidx 47500/48000\n",
            "\tidx 48000/48000\n",
            "Calculating Hessian diagonal for module: fc2 with 10080 values\n",
            "\tidx 500/10080\n",
            "\tidx 1000/10080\n",
            "\tidx 1500/10080\n",
            "\tidx 2000/10080\n",
            "\tidx 2500/10080\n",
            "\tidx 3000/10080\n",
            "\tidx 3500/10080\n",
            "\tidx 4000/10080\n",
            "\tidx 4500/10080\n",
            "\tidx 5000/10080\n",
            "\tidx 5500/10080\n",
            "\tidx 6000/10080\n",
            "\tidx 6500/10080\n",
            "\tidx 7000/10080\n",
            "\tidx 7500/10080\n",
            "\tidx 8000/10080\n",
            "\tidx 8500/10080\n",
            "\tidx 9000/10080\n",
            "\tidx 9500/10080\n",
            "\tidx 10000/10080\n",
            "Calculating Hessian diagonal for module: fc3 with 840 values\n",
            "\tidx 500/840\n"
          ],
          "name": "stdout"
        }
      ]
    },
    {
      "cell_type": "markdown",
      "metadata": {
        "id": "tcPiDPLMjQIv"
      },
      "source": [
        "With the hessian diagonals in hand, we can calculate the saliencies of the parameters, and use them for pruning."
      ]
    },
    {
      "cell_type": "code",
      "metadata": {
        "id": "xfxkAjbR49ZG"
      },
      "source": [
        "mnist_model = torch.load('LeNet_MNIST.pt').to(device)"
      ],
      "execution_count": null,
      "outputs": []
    },
    {
      "cell_type": "code",
      "metadata": {
        "id": "2g4L_lhQ4CXA"
      },
      "source": [
        "mnist_saliency_dict = calculate_saliencies(mnist_model, mnist_hessian_diag)"
      ],
      "execution_count": null,
      "outputs": []
    },
    {
      "cell_type": "markdown",
      "metadata": {
        "id": "Hd5Gwyr5kOy_"
      },
      "source": [
        "We can apply OBD now."
      ]
    },
    {
      "cell_type": "code",
      "metadata": {
        "colab": {
          "base_uri": "https://localhost:8080/"
        },
        "id": "rG_POSkrkNgT",
        "outputId": "5fcf1255-860d-43bc-c56b-7ae7e6bc1b10"
      },
      "source": [
        "mnist_obd_history = prune_gradually(\n",
        "    mnist_model, \n",
        "    SaliencyPruner, \n",
        "    mnist_test_loader,\n",
        "    importance_scores=mnist_saliency_dict,\n",
        "    prune_frac=0.1, \n",
        "    sparsity_threshold=0.05\n",
        ")"
      ],
      "execution_count": null,
      "outputs": [
        {
          "output_type": "stream",
          "text": [
            "At 10.00% sparsity, accuracy is 98.61%\n",
            "At 19.00% sparsity, accuracy is 98.61%\n",
            "At 27.10% sparsity, accuracy is 98.61%\n",
            "At 34.39% sparsity, accuracy is 98.61%\n",
            "At 40.95% sparsity, accuracy is 98.61%\n",
            "At 46.85% sparsity, accuracy is 98.61%\n",
            "At 52.17% sparsity, accuracy is 98.61%\n",
            "At 56.95% sparsity, accuracy is 98.65%\n",
            "At 61.26% sparsity, accuracy is 98.72%\n",
            "At 65.13% sparsity, accuracy is 98.66%\n",
            "At 68.62% sparsity, accuracy is 98.65%\n",
            "At 71.75% sparsity, accuracy is 98.62%\n",
            "At 74.58% sparsity, accuracy is 98.68%\n",
            "At 77.12% sparsity, accuracy is 98.66%\n",
            "At 79.41% sparsity, accuracy is 98.53%\n",
            "At 81.47% sparsity, accuracy is 98.47%\n",
            "At 83.32% sparsity, accuracy is 98.28%\n",
            "At 84.99% sparsity, accuracy is 97.89%\n",
            "At 86.49% sparsity, accuracy is 97.37%\n",
            "At 87.84% sparsity, accuracy is 96.42%\n",
            "At 89.05% sparsity, accuracy is 95.16%\n",
            "At 90.15% sparsity, accuracy is 93.42%\n",
            "At 91.13% sparsity, accuracy is 89.58%\n",
            "At 92.02% sparsity, accuracy is 88.50%\n",
            "At 92.82% sparsity, accuracy is 82.82%\n",
            "At 93.53% sparsity, accuracy is 73.22%\n",
            "At 94.18% sparsity, accuracy is 69.19%\n",
            "At 94.76% sparsity, accuracy is 62.25%\n",
            "At 95.28% sparsity, accuracy is 61.68%\n"
          ],
          "name": "stdout"
        }
      ]
    },
    {
      "cell_type": "markdown",
      "metadata": {
        "id": "jjYMExK24iJH"
      },
      "source": [
        "Let's plot these accuracies along with the ones from magnitude based pruning to compare the two methods."
      ]
    },
    {
      "cell_type": "code",
      "metadata": {
        "colab": {
          "base_uri": "https://localhost:8080/",
          "height": 295
        },
        "id": "e_vksjMNjNSm",
        "outputId": "0757f9c5-2953-4a61-fe56-48dac6f19f2a"
      },
      "source": [
        "plot_prune_histories(\n",
        "    [mnist_prune_history, mnist_obd_history], \n",
        "    ['Magnitude based', 'OBD'], \n",
        "    title='OBD vs Magnitude based pruning (MNIST)'\n",
        ")"
      ],
      "execution_count": null,
      "outputs": [
        {
          "output_type": "display_data",
          "data": {
            "image/png": "[encoded data removed]",
            "text/plain": [
              "<Figure size 432x288 with 1 Axes>"
            ]
          },
          "metadata": {
            "tags": [],
            "needs_background": "light"
          }
        }
      ]
    },
    {
      "cell_type": "markdown",
      "metadata": {
        "id": "156C1m3dr30V"
      },
      "source": [
        "OBD seems to perform a little better, but not really much."
      ]
    },
    {
      "cell_type": "markdown",
      "metadata": {
        "id": "fvXDhNXsrHsI"
      },
      "source": [
        "### Fashion-MNIST"
      ]
    },
    {
      "cell_type": "code",
      "metadata": {
        "id": "3gZdg_JZrKX6"
      },
      "source": [
        "fmnist_loader_full = DataLoader(\n",
        "    fmnist_train,\n",
        "    batch_size=len(fmnist_train)\n",
        ")"
      ],
      "execution_count": null,
      "outputs": []
    },
    {
      "cell_type": "code",
      "metadata": {
        "id": "Yiu0qvjXrTBx"
      },
      "source": [
        "fmnist_model = torch.load('LeNet_FMNIST.pt').to(device)"
      ],
      "execution_count": null,
      "outputs": []
    },
    {
      "cell_type": "code",
      "metadata": {
        "id": "yDE6pUf-rXPI"
      },
      "source": [
        "fmnist_loss = get_differentiable_loss(fmnist_model, loss_fn, fmnist_loader_full)"
      ],
      "execution_count": null,
      "outputs": []
    },
    {
      "cell_type": "code",
      "metadata": {
        "id": "MLgXk-VgsO2u"
      },
      "source": [
        "fmnist_grad_dict = calculate_grads(fmnist_model, fmnist_loss)"
      ],
      "execution_count": null,
      "outputs": []
    },
    {
      "cell_type": "code",
      "metadata": {
        "id": "HEaNmTWysRal",
        "colab": {
          "base_uri": "https://localhost:8080/"
        },
        "outputId": "61b282ec-0461-426d-c75c-23d0825e614b"
      },
      "source": [
        "fmnist_hessian_diag = calculate_hessian_diags(fmnist_model, fmnist_grad_dict, print_every=500)"
      ],
      "execution_count": null,
      "outputs": [
        {
          "output_type": "stream",
          "text": [
            "Calculating Hessian diagonal for module: conv1 with 54 values\n",
            "Calculating Hessian diagonal for module: conv2 with 864 values\n",
            "\tidx 500/864\n",
            "Calculating Hessian diagonal for module: fc1 with 48000 values\n",
            "\tidx 500/48000\n",
            "\tidx 1000/48000\n",
            "\tidx 1500/48000\n",
            "\tidx 2000/48000\n",
            "\tidx 2500/48000\n",
            "\tidx 3000/48000\n",
            "\tidx 3500/48000\n",
            "\tidx 4000/48000\n",
            "\tidx 4500/48000\n",
            "\tidx 5000/48000\n",
            "\tidx 5500/48000\n",
            "\tidx 6000/48000\n",
            "\tidx 6500/48000\n",
            "\tidx 7000/48000\n",
            "\tidx 7500/48000\n",
            "\tidx 8000/48000\n",
            "\tidx 8500/48000\n",
            "\tidx 9000/48000\n",
            "\tidx 9500/48000\n",
            "\tidx 10000/48000\n",
            "\tidx 10500/48000\n",
            "\tidx 11000/48000\n",
            "\tidx 11500/48000\n",
            "\tidx 12000/48000\n",
            "\tidx 12500/48000\n",
            "\tidx 13000/48000\n",
            "\tidx 13500/48000\n",
            "\tidx 14000/48000\n",
            "\tidx 14500/48000\n",
            "\tidx 15000/48000\n",
            "\tidx 15500/48000\n",
            "\tidx 16000/48000\n",
            "\tidx 16500/48000\n",
            "\tidx 17000/48000\n",
            "\tidx 17500/48000\n",
            "\tidx 18000/48000\n",
            "\tidx 18500/48000\n",
            "\tidx 19000/48000\n",
            "\tidx 19500/48000\n",
            "\tidx 20000/48000\n",
            "\tidx 20500/48000\n",
            "\tidx 21000/48000\n",
            "\tidx 21500/48000\n",
            "\tidx 22000/48000\n",
            "\tidx 22500/48000\n",
            "\tidx 23000/48000\n",
            "\tidx 23500/48000\n",
            "\tidx 24000/48000\n",
            "\tidx 24500/48000\n",
            "\tidx 25000/48000\n",
            "\tidx 25500/48000\n",
            "\tidx 26000/48000\n",
            "\tidx 26500/48000\n",
            "\tidx 27000/48000\n",
            "\tidx 27500/48000\n",
            "\tidx 28000/48000\n",
            "\tidx 28500/48000\n",
            "\tidx 29000/48000\n",
            "\tidx 29500/48000\n",
            "\tidx 30000/48000\n",
            "\tidx 30500/48000\n",
            "\tidx 31000/48000\n",
            "\tidx 31500/48000\n",
            "\tidx 32000/48000\n",
            "\tidx 32500/48000\n",
            "\tidx 33000/48000\n",
            "\tidx 33500/48000\n",
            "\tidx 34000/48000\n",
            "\tidx 34500/48000\n",
            "\tidx 35000/48000\n",
            "\tidx 35500/48000\n",
            "\tidx 36000/48000\n",
            "\tidx 36500/48000\n",
            "\tidx 37000/48000\n",
            "\tidx 37500/48000\n",
            "\tidx 38000/48000\n",
            "\tidx 38500/48000\n",
            "\tidx 39000/48000\n",
            "\tidx 39500/48000\n",
            "\tidx 40000/48000\n",
            "\tidx 40500/48000\n",
            "\tidx 41000/48000\n",
            "\tidx 41500/48000\n",
            "\tidx 42000/48000\n",
            "\tidx 42500/48000\n",
            "\tidx 43000/48000\n",
            "\tidx 43500/48000\n",
            "\tidx 44000/48000\n",
            "\tidx 44500/48000\n",
            "\tidx 45000/48000\n",
            "\tidx 45500/48000\n",
            "\tidx 46000/48000\n",
            "\tidx 46500/48000\n",
            "\tidx 47000/48000\n",
            "\tidx 47500/48000\n",
            "\tidx 48000/48000\n",
            "Calculating Hessian diagonal for module: fc2 with 10080 values\n",
            "\tidx 500/10080\n",
            "\tidx 1000/10080\n",
            "\tidx 1500/10080\n",
            "\tidx 2000/10080\n",
            "\tidx 2500/10080\n",
            "\tidx 3000/10080\n",
            "\tidx 3500/10080\n",
            "\tidx 4000/10080\n",
            "\tidx 4500/10080\n",
            "\tidx 5000/10080\n",
            "\tidx 5500/10080\n",
            "\tidx 6000/10080\n",
            "\tidx 6500/10080\n",
            "\tidx 7000/10080\n",
            "\tidx 7500/10080\n",
            "\tidx 8000/10080\n",
            "\tidx 8500/10080\n",
            "\tidx 9000/10080\n",
            "\tidx 9500/10080\n",
            "\tidx 10000/10080\n",
            "Calculating Hessian diagonal for module: fc3 with 840 values\n",
            "\tidx 500/840\n"
          ],
          "name": "stdout"
        }
      ]
    },
    {
      "cell_type": "code",
      "metadata": {
        "id": "sGSVBwCKgqXM"
      },
      "source": [
        "fmnist_model = torch.load('LeNet_FMNIST.pt').to(device)"
      ],
      "execution_count": null,
      "outputs": []
    },
    {
      "cell_type": "code",
      "metadata": {
        "id": "33_l-YxfgwHX"
      },
      "source": [
        "# Calculate saliencies\n",
        "fmnist_saliency_dict = calculate_saliencies(fmnist_model, fmnist_hessian_diag)"
      ],
      "execution_count": null,
      "outputs": []
    },
    {
      "cell_type": "code",
      "metadata": {
        "colab": {
          "base_uri": "https://localhost:8080/"
        },
        "id": "BsHCKTwVgznh",
        "outputId": "b852c458-5078-48b5-f846-d05a42919636"
      },
      "source": [
        "# Apply OBD now\n",
        "fmnist_obd_history = prune_gradually(\n",
        "    fmnist_model, \n",
        "    SaliencyPruner, \n",
        "    fmnist_test_loader,\n",
        "    importance_scores=fmnist_saliency_dict,\n",
        "    prune_frac=0.1, \n",
        "    sparsity_threshold=0.05\n",
        ")"
      ],
      "execution_count": null,
      "outputs": [
        {
          "output_type": "stream",
          "text": [
            "At 10.00% sparsity, accuracy is 88.79%\n",
            "At 19.00% sparsity, accuracy is 88.79%\n",
            "At 27.10% sparsity, accuracy is 88.78%\n",
            "At 34.39% sparsity, accuracy is 88.78%\n",
            "At 40.95% sparsity, accuracy is 88.79%\n",
            "At 46.85% sparsity, accuracy is 88.79%\n",
            "At 52.17% sparsity, accuracy is 88.76%\n",
            "At 56.95% sparsity, accuracy is 88.74%\n",
            "At 61.26% sparsity, accuracy is 88.69%\n",
            "At 65.13% sparsity, accuracy is 88.56%\n",
            "At 68.62% sparsity, accuracy is 88.47%\n",
            "At 71.75% sparsity, accuracy is 88.02%\n",
            "At 74.58% sparsity, accuracy is 87.37%\n",
            "At 77.12% sparsity, accuracy is 86.39%\n",
            "At 79.41% sparsity, accuracy is 85.51%\n",
            "At 81.47% sparsity, accuracy is 84.87%\n",
            "At 83.32% sparsity, accuracy is 83.05%\n",
            "At 84.99% sparsity, accuracy is 81.58%\n",
            "At 86.49% sparsity, accuracy is 77.98%\n",
            "At 87.84% sparsity, accuracy is 76.53%\n",
            "At 89.05% sparsity, accuracy is 72.93%\n",
            "At 90.15% sparsity, accuracy is 68.75%\n",
            "At 91.13% sparsity, accuracy is 64.71%\n",
            "At 92.02% sparsity, accuracy is 65.46%\n",
            "At 92.82% sparsity, accuracy is 61.27%\n",
            "At 93.53% sparsity, accuracy is 56.00%\n",
            "At 94.18% sparsity, accuracy is 54.75%\n",
            "At 94.76% sparsity, accuracy is 48.14%\n",
            "At 95.28% sparsity, accuracy is 36.64%\n"
          ],
          "name": "stdout"
        }
      ]
    },
    {
      "cell_type": "code",
      "metadata": {
        "id": "4YiIUnNIkwfF"
      },
      "source": [
        "torch.save(fmnist_obd_history, 'fmnist_obd_history.pkl')"
      ],
      "execution_count": null,
      "outputs": []
    },
    {
      "cell_type": "code",
      "metadata": {
        "colab": {
          "base_uri": "https://localhost:8080/",
          "height": 295
        },
        "id": "voFxNG0xhFp8",
        "outputId": "55ccc313-eeab-4b23-fec2-7783667e1748"
      },
      "source": [
        "# Plot prune histories for comparing magnitude based pruning and OBD\n",
        "plot_prune_histories(\n",
        "    [fmnist_prune_history, fmnist_obd_history], \n",
        "    ['Magnitude based', 'OBD'], \n",
        "    title='OBD vs Magnitude based pruning (Fashion-MNIST)'\n",
        ")"
      ],
      "execution_count": null,
      "outputs": [
        {
          "output_type": "display_data",
          "data": {
            "image/png": "[encoded data removed]",
            "text/plain": [
              "<Figure size 432x288 with 1 Axes>"
            ]
          },
          "metadata": {
            "tags": [],
            "needs_background": "light"
          }
        }
      ]
    },
    {
      "cell_type": "markdown",
      "metadata": {
        "id": "MHeFKSV2j_4i"
      },
      "source": [
        "### CIFAR10"
      ]
    },
    {
      "cell_type": "code",
      "metadata": {
        "id": "h1Sx4gDsj_RL"
      },
      "source": [
        "# For CIFAR10, we'll only use 20% of the whole dataset, since the GPU requrements get too high\n",
        "cifar10_loader_full = DataLoader(\n",
        "    cifar10_train,\n",
        "    batch_size=len(cifar10_train)//5\n",
        ")"
      ],
      "execution_count": null,
      "outputs": []
    },
    {
      "cell_type": "code",
      "metadata": {
        "id": "UrqdzK54kQ07"
      },
      "source": [
        "cifar10_model = torch.load('LeNet_CIFAR10.pt').to(device)"
      ],
      "execution_count": null,
      "outputs": []
    },
    {
      "cell_type": "code",
      "metadata": {
        "id": "YhHgBMWckYzt"
      },
      "source": [
        "cifar10_loss = get_differentiable_loss(cifar10_model, loss_fn, cifar10_loader_full)"
      ],
      "execution_count": null,
      "outputs": []
    },
    {
      "cell_type": "code",
      "metadata": {
        "id": "PFe8tH_5kgvA"
      },
      "source": [
        "cifar10_grad_dict = calculate_grads(cifar10_model, cifar10_loss)"
      ],
      "execution_count": null,
      "outputs": []
    },
    {
      "cell_type": "code",
      "metadata": {
        "colab": {
          "base_uri": "https://localhost:8080/"
        },
        "id": "y7oqrlMAlb21",
        "outputId": "2560a08f-0b06-4818-ef97-d83affd51bc6"
      },
      "source": [
        "cifar10_hessian_diag = calculate_hessian_diags(cifar10_model, cifar10_grad_dict, print_every=2000)"
      ],
      "execution_count": null,
      "outputs": [
        {
          "output_type": "stream",
          "text": [
            "Calculating Hessian diagonal for module: conv1 with 162 values\n",
            "Calculating Hessian diagonal for module: conv2 with 864 values\n",
            "Calculating Hessian diagonal for module: fc1 with 69120 values\n",
            "\tidx 2000/69120\n",
            "\tidx 4000/69120\n",
            "\tidx 6000/69120\n",
            "\tidx 8000/69120\n",
            "\tidx 10000/69120\n",
            "\tidx 12000/69120\n",
            "\tidx 14000/69120\n",
            "\tidx 16000/69120\n",
            "\tidx 18000/69120\n",
            "\tidx 20000/69120\n",
            "\tidx 22000/69120\n",
            "\tidx 24000/69120\n",
            "\tidx 26000/69120\n",
            "\tidx 28000/69120\n",
            "\tidx 30000/69120\n",
            "\tidx 32000/69120\n",
            "\tidx 34000/69120\n",
            "\tidx 36000/69120\n",
            "\tidx 38000/69120\n",
            "\tidx 40000/69120\n",
            "\tidx 42000/69120\n",
            "\tidx 44000/69120\n",
            "\tidx 46000/69120\n",
            "\tidx 48000/69120\n",
            "\tidx 50000/69120\n",
            "\tidx 52000/69120\n",
            "\tidx 54000/69120\n",
            "\tidx 56000/69120\n",
            "\tidx 58000/69120\n",
            "\tidx 60000/69120\n",
            "\tidx 62000/69120\n",
            "\tidx 64000/69120\n",
            "\tidx 66000/69120\n",
            "\tidx 68000/69120\n",
            "Calculating Hessian diagonal for module: fc2 with 10080 values\n",
            "\tidx 2000/10080\n",
            "\tidx 4000/10080\n",
            "\tidx 6000/10080\n",
            "\tidx 8000/10080\n",
            "\tidx 10000/10080\n",
            "Calculating Hessian diagonal for module: fc3 with 840 values\n"
          ],
          "name": "stdout"
        }
      ]
    },
    {
      "cell_type": "code",
      "metadata": {
        "id": "Til0cQueoJVl"
      },
      "source": [
        "cifar10_saliency_dict = calculate_saliencies(cifar10_model, cifar10_hessian_diag)"
      ],
      "execution_count": null,
      "outputs": []
    },
    {
      "cell_type": "code",
      "metadata": {
        "colab": {
          "base_uri": "https://localhost:8080/"
        },
        "id": "lHreZBAUoZui",
        "outputId": "32a97ef5-91ad-4415-f99b-e8c26c7a0614"
      },
      "source": [
        "cifar10_obd_history = prune_gradually(\n",
        "    cifar10_model, \n",
        "    SaliencyPruner, \n",
        "    cifar10_test_loader,\n",
        "    importance_scores=cifar10_saliency_dict,\n",
        "    prune_frac=0.1, \n",
        "    sparsity_threshold=0.05\n",
        ")"
      ],
      "execution_count": null,
      "outputs": [
        {
          "output_type": "stream",
          "text": [
            "At 10.00% sparsity, accuracy is 61.76%\n",
            "At 19.00% sparsity, accuracy is 61.77%\n",
            "At 27.10% sparsity, accuracy is 61.78%\n",
            "At 34.39% sparsity, accuracy is 61.78%\n",
            "At 40.95% sparsity, accuracy is 61.78%\n",
            "At 46.85% sparsity, accuracy is 61.79%\n",
            "At 52.17% sparsity, accuracy is 61.76%\n",
            "At 56.95% sparsity, accuracy is 61.72%\n",
            "At 61.25% sparsity, accuracy is 61.59%\n",
            "At 65.13% sparsity, accuracy is 60.94%\n",
            "At 68.61% sparsity, accuracy is 60.07%\n",
            "At 71.75% sparsity, accuracy is 59.32%\n",
            "At 74.58% sparsity, accuracy is 59.18%\n",
            "At 77.12% sparsity, accuracy is 58.91%\n",
            "At 79.41% sparsity, accuracy is 57.81%\n",
            "At 81.46% sparsity, accuracy is 56.51%\n",
            "At 83.32% sparsity, accuracy is 53.87%\n",
            "At 84.99% sparsity, accuracy is 52.39%\n",
            "At 86.49% sparsity, accuracy is 50.53%\n",
            "At 87.84% sparsity, accuracy is 47.65%\n",
            "At 89.05% sparsity, accuracy is 44.80%\n",
            "At 90.15% sparsity, accuracy is 43.45%\n",
            "At 91.13% sparsity, accuracy is 37.92%\n",
            "At 92.02% sparsity, accuracy is 32.22%\n",
            "At 92.82% sparsity, accuracy is 26.71%\n",
            "At 93.53% sparsity, accuracy is 27.71%\n",
            "At 94.18% sparsity, accuracy is 26.07%\n",
            "At 94.76% sparsity, accuracy is 22.16%\n",
            "At 95.28% sparsity, accuracy is 18.35%\n"
          ],
          "name": "stdout"
        }
      ]
    },
    {
      "cell_type": "code",
      "metadata": {
        "id": "8eiusYKHo7Cr"
      },
      "source": [
        "cifar10_prune_history = torch.load('cifar10_prune_history.pkl')"
      ],
      "execution_count": null,
      "outputs": []
    },
    {
      "cell_type": "code",
      "metadata": {
        "id": "eIze7WmOriCv"
      },
      "source": [
        "torch.save(cifar10_obd_history, 'cifar10_obd_history.pkl')"
      ],
      "execution_count": null,
      "outputs": []
    },
    {
      "cell_type": "code",
      "metadata": {
        "colab": {
          "base_uri": "https://localhost:8080/",
          "height": 295
        },
        "id": "ysTzsppHoqGV",
        "outputId": "86b4efac-f1c5-4bb1-d61e-112e62205a45"
      },
      "source": [
        "# Plot prune histories for comparing magnitude based pruning and OBD\n",
        "plot_prune_histories(\n",
        "    [cifar10_prune_history, cifar10_obd_history], \n",
        "    ['Magnitude based', 'OBD'], \n",
        "    title='OBD vs Magnitude based pruning (CIFAR-10)'\n",
        ")"
      ],
      "execution_count": null,
      "outputs": [
        {
          "output_type": "display_data",
          "data": {
            "image/png": "[encoded data removed]",
            "text/plain": [
              "<Figure size 432x288 with 1 Axes>"
            ]
          },
          "metadata": {
            "tags": [],
            "needs_background": "light"
          }
        }
      ]
    },
    {
      "cell_type": "markdown",
      "metadata": {
        "id": "s4-QU2YPrCTr"
      },
      "source": [
        "Even with saliencies calculated using just 20% of the dataset, OBD is able to significantly outperform magnitude based pruning in case of CIFAR10."
      ]
    },
    {
      "cell_type": "markdown",
      "metadata": {
        "id": "yXMzrks_LB3Q"
      },
      "source": [
        "## Iterative Pruning\n",
        "\n",
        "In this section, we'll implement the iterative pruning method proposed by Han et. al. (2015). In this method, we first take a trained network, and then each iteration involves pruning and subsequent retraining of the weights in the pruned network."
      ]
    },
    {
      "cell_type": "markdown",
      "metadata": {
        "id": "q0oSHD4Zun1u"
      },
      "source": [
        "### Pruning function"
      ]
    },
    {
      "cell_type": "code",
      "metadata": {
        "id": "qZWoPfbaMfmF"
      },
      "source": [
        "def iterative_pruning(model, method, n_iters, train_loader, test_loader, opt_fn=optim.Adam, loss_fn=F.cross_entropy, lr=0.001, prune_frac=0.2, train_epochs=10, sparsity_threshold=0.99, importance_scores=None):\n",
        "  history = []\n",
        "  history.append((0, test_accuracy(model, test_loader)))\n",
        "  \n",
        "  parameters_to_prune = get_parameters_to_prune(model)\n",
        "  for iter in range(n_iters):\n",
        "    # Prune\n",
        "    prune.global_unstructured(\n",
        "        parameters_to_prune,\n",
        "        pruning_method=method,\n",
        "        importance_scores=importance_scores,\n",
        "        amount=prune_frac,  \n",
        "    )\n",
        "\n",
        "    # Retrain\n",
        "    fit(model, train_loader, train_epochs, opt_fn, loss_fn, lr=lr, print_every=1000000)\n",
        "\n",
        "    acc = test_accuracy(model, test_loader)\n",
        "    sparsity = calculate_sparsity(model)\n",
        "    print(f\"Iteration [{iter+1}/{n_iters}]: Sparsity: {100*sparsity:.2f}%, Accuracy: {100*acc:.2f}%\")\n",
        "    history.append((sparsity, acc))\n",
        "\n",
        "    if sparsity >= sparsity_threshold:\n",
        "      print('Sparsity threshold (%.2f'%(sparsity_threshold*100) + '%) reached, stopping.')\n",
        "      break\n",
        "\n",
        "  return history"
      ],
      "execution_count": null,
      "outputs": []
    },
    {
      "cell_type": "markdown",
      "metadata": {
        "id": "vkiMCTOvusGh"
      },
      "source": [
        "### MNIST"
      ]
    },
    {
      "cell_type": "code",
      "metadata": {
        "id": "RBDUdGzSurfG"
      },
      "source": [
        "mnist_model = torch.load('LeNet_MNIST.pt').to(device)"
      ],
      "execution_count": null,
      "outputs": []
    },
    {
      "cell_type": "markdown",
      "metadata": {
        "id": "Wf7hs1EEwUt-"
      },
      "source": [
        "We'll prune 20% each time, and then retrain the model for 10 epochs."
      ]
    },
    {
      "cell_type": "code",
      "metadata": {
        "colab": {
          "base_uri": "https://localhost:8080/"
        },
        "id": "CxAfJ3OXu0i3",
        "outputId": "afe07dcd-42b4-46d2-9061-c8e09422061f"
      },
      "source": [
        "# Prune for 25 iterations, or until sparsity threshold is reached\n",
        "mnist_ip_history = iterative_pruning(mnist_model, MyL1PruningMethod, 25, mnist_train_loader, mnist_test_loader)"
      ],
      "execution_count": null,
      "outputs": [
        {
          "output_type": "stream",
          "text": [
            "Iteration [1/25]: Sparsity: 20.00%, Accuracy: 98.52%\n",
            "Iteration [2/25]: Sparsity: 36.00%, Accuracy: 98.83%\n",
            "Iteration [3/25]: Sparsity: 48.80%, Accuracy: 98.87%\n",
            "Iteration [4/25]: Sparsity: 59.04%, Accuracy: 98.94%\n",
            "Iteration [5/25]: Sparsity: 67.23%, Accuracy: 98.90%\n",
            "Iteration [6/25]: Sparsity: 73.78%, Accuracy: 98.84%\n",
            "Iteration [7/25]: Sparsity: 79.03%, Accuracy: 98.83%\n",
            "Iteration [8/25]: Sparsity: 83.22%, Accuracy: 98.88%\n",
            "Iteration [9/25]: Sparsity: 86.58%, Accuracy: 98.90%\n",
            "Iteration [10/25]: Sparsity: 89.26%, Accuracy: 98.70%\n",
            "Iteration [11/25]: Sparsity: 91.41%, Accuracy: 98.71%\n",
            "Iteration [12/25]: Sparsity: 93.12%, Accuracy: 98.71%\n",
            "Iteration [13/25]: Sparsity: 94.50%, Accuracy: 98.47%\n",
            "Iteration [14/25]: Sparsity: 95.60%, Accuracy: 98.59%\n",
            "Iteration [15/25]: Sparsity: 96.48%, Accuracy: 98.40%\n",
            "Iteration [16/25]: Sparsity: 97.18%, Accuracy: 98.22%\n",
            "Iteration [17/25]: Sparsity: 97.74%, Accuracy: 97.89%\n",
            "Iteration [18/25]: Sparsity: 98.20%, Accuracy: 97.16%\n",
            "Iteration [19/25]: Sparsity: 98.56%, Accuracy: 95.75%\n",
            "Iteration [20/25]: Sparsity: 98.84%, Accuracy: 95.32%\n",
            "Iteration [21/25]: Sparsity: 99.07%, Accuracy: 91.71%\n",
            "Sparsity threshold (99.00%) reached, stopping.\n"
          ],
          "name": "stdout"
        }
      ]
    },
    {
      "cell_type": "code",
      "metadata": {
        "id": "uaRry1Ej0xFq"
      },
      "source": [
        "torch.save(mnist_ip_history, 'mnist_ip_history.pkl')"
      ],
      "execution_count": null,
      "outputs": []
    },
    {
      "cell_type": "markdown",
      "metadata": {
        "id": "I2cgWoWxz-ZX"
      },
      "source": [
        "Let's plot the dropoff in accuracy."
      ]
    },
    {
      "cell_type": "code",
      "metadata": {
        "colab": {
          "base_uri": "https://localhost:8080/",
          "height": 295
        },
        "id": "u7Mg-wrzcDG-",
        "outputId": "bb22093f-d0d2-480f-95c7-e07f05a17bcb"
      },
      "source": [
        "plot_prune_histories([mnist_ip_history], ['MNIST'], title='MNIST, Iterative Pruning')"
      ],
      "execution_count": null,
      "outputs": [
        {
          "output_type": "display_data",
          "data": {
            "image/png": "[encoded data removed]",
            "text/plain": [
              "<Figure size 432x288 with 1 Axes>"
            ]
          },
          "metadata": {
            "tags": [],
            "needs_background": "light"
          }
        }
      ]
    },
    {
      "cell_type": "markdown",
      "metadata": {
        "id": "JajDXLuLcQg-"
      },
      "source": [
        "For lower sparsity values, the pruned network seems to perform better than the original trained network! No significant drop in accuracy occurs, even after we've pruned ~95% of the weights. Even at 98% sparsity, the accuracy is respectable."
      ]
    },
    {
      "cell_type": "markdown",
      "metadata": {
        "id": "6y1dqzIZ0doE"
      },
      "source": [
        "### Fashion-MNIST"
      ]
    },
    {
      "cell_type": "code",
      "metadata": {
        "id": "8GgnyqW50ftu"
      },
      "source": [
        "fmnist_model = torch.load('LeNet_FMNIST.pt').to(device)"
      ],
      "execution_count": null,
      "outputs": []
    },
    {
      "cell_type": "code",
      "metadata": {
        "colab": {
          "base_uri": "https://localhost:8080/"
        },
        "id": "GvrIo2ch0nRh",
        "outputId": "2905cfe3-a45e-41d4-c609-550204b7a2d2"
      },
      "source": [
        "fmnist_ip_history = iterative_pruning(fmnist_model, MyL1PruningMethod, 25, fmnist_train_loader, fmnist_test_loader)"
      ],
      "execution_count": null,
      "outputs": [
        {
          "output_type": "stream",
          "text": [
            "Iteration [1/25]: Sparsity: 20.00%, Accuracy: 88.28%\n",
            "Iteration [2/25]: Sparsity: 36.00%, Accuracy: 88.62%\n",
            "Iteration [3/25]: Sparsity: 48.80%, Accuracy: 88.19%\n",
            "Iteration [4/25]: Sparsity: 59.04%, Accuracy: 87.73%\n",
            "Iteration [5/25]: Sparsity: 67.23%, Accuracy: 88.39%\n",
            "Iteration [6/25]: Sparsity: 73.78%, Accuracy: 88.46%\n",
            "Iteration [7/25]: Sparsity: 79.03%, Accuracy: 88.73%\n",
            "Iteration [8/25]: Sparsity: 83.22%, Accuracy: 88.16%\n",
            "Iteration [9/25]: Sparsity: 86.58%, Accuracy: 88.67%\n",
            "Iteration [10/25]: Sparsity: 89.26%, Accuracy: 89.06%\n",
            "Iteration [11/25]: Sparsity: 91.41%, Accuracy: 88.92%\n",
            "Iteration [12/25]: Sparsity: 93.12%, Accuracy: 88.90%\n",
            "Iteration [13/25]: Sparsity: 94.50%, Accuracy: 88.67%\n",
            "Iteration [14/25]: Sparsity: 95.60%, Accuracy: 88.55%\n",
            "Iteration [15/25]: Sparsity: 96.48%, Accuracy: 88.01%\n",
            "Iteration [16/25]: Sparsity: 97.18%, Accuracy: 87.64%\n",
            "Iteration [17/25]: Sparsity: 97.74%, Accuracy: 86.53%\n",
            "Iteration [18/25]: Sparsity: 98.20%, Accuracy: 85.36%\n",
            "Iteration [19/25]: Sparsity: 98.56%, Accuracy: 85.05%\n",
            "Iteration [20/25]: Sparsity: 98.84%, Accuracy: 83.97%\n",
            "Iteration [21/25]: Sparsity: 99.07%, Accuracy: 81.67%\n",
            "Sparsity threshold (99.00%) reached, stopping.\n"
          ],
          "name": "stdout"
        }
      ]
    },
    {
      "cell_type": "code",
      "metadata": {
        "id": "Sg5rjpJE1E8F"
      },
      "source": [
        "torch.save(fmnist_ip_history, 'fmnist_ip_history.pkl')"
      ],
      "execution_count": null,
      "outputs": []
    },
    {
      "cell_type": "code",
      "metadata": {
        "colab": {
          "base_uri": "https://localhost:8080/",
          "height": 295
        },
        "id": "eCqhSScx1EUL",
        "outputId": "ae8aef09-95de-4b9c-ffca-9a5b240601aa"
      },
      "source": [
        "plot_prune_histories([fmnist_ip_history], ['Fashion-MNIST'], title='Fashion-MNIST, Iterative Pruning')"
      ],
      "execution_count": null,
      "outputs": [
        {
          "output_type": "display_data",
          "data": {
            "image/png": "[encoded data removed]",
            "text/plain": [
              "<Figure size 432x288 with 1 Axes>"
            ]
          },
          "metadata": {
            "tags": [],
            "needs_background": "light"
          }
        }
      ]
    },
    {
      "cell_type": "markdown",
      "metadata": {
        "id": "ttYV6e1x4yM_"
      },
      "source": [
        "Similar output, but there are some valleys in there. This could be because 10 training epochs were not enough."
      ]
    },
    {
      "cell_type": "markdown",
      "metadata": {
        "id": "EhLXbkrP46Od"
      },
      "source": [
        "### CIFAR10"
      ]
    },
    {
      "cell_type": "code",
      "metadata": {
        "id": "OHZaNfsm4wsc"
      },
      "source": [
        "cifar10_model = torch.load('LeNet_CIFAR10.pt').to(device)"
      ],
      "execution_count": null,
      "outputs": []
    },
    {
      "cell_type": "markdown",
      "metadata": {
        "id": "MXf7qhhL5XPg"
      },
      "source": [
        "Since CIFAR-10 seems to be a harder dataset, we'll train for 20 epochs after each pruning iteration"
      ]
    },
    {
      "cell_type": "code",
      "metadata": {
        "colab": {
          "base_uri": "https://localhost:8080/"
        },
        "id": "nVPETIck48L_",
        "outputId": "7afc4aa2-806a-4f4b-f565-7b979481c5ef"
      },
      "source": [
        "cifar10_ip_history = iterative_pruning(\n",
        "    cifar10_model, \n",
        "    MyL1PruningMethod, \n",
        "    25, \n",
        "    cifar10_train_loader, \n",
        "    cifar10_test_loader, \n",
        "    train_epochs=20\n",
        ")"
      ],
      "execution_count": null,
      "outputs": [
        {
          "output_type": "stream",
          "text": [
            "Iteration [1/25]: Sparsity: 20.00%, Accuracy: 60.45%\n",
            "Iteration [2/25]: Sparsity: 36.00%, Accuracy: 59.71%\n",
            "Iteration [3/25]: Sparsity: 48.80%, Accuracy: 58.85%\n",
            "Iteration [4/25]: Sparsity: 59.04%, Accuracy: 58.26%\n",
            "Iteration [5/25]: Sparsity: 67.23%, Accuracy: 57.36%\n",
            "Iteration [6/25]: Sparsity: 73.78%, Accuracy: 57.94%\n",
            "Iteration [7/25]: Sparsity: 79.03%, Accuracy: 58.37%\n",
            "Iteration [8/25]: Sparsity: 83.22%, Accuracy: 59.64%\n",
            "Iteration [9/25]: Sparsity: 86.58%, Accuracy: 60.24%\n",
            "Iteration [10/25]: Sparsity: 89.26%, Accuracy: 61.08%\n",
            "Iteration [11/25]: Sparsity: 91.41%, Accuracy: 61.62%\n",
            "Iteration [12/25]: Sparsity: 93.13%, Accuracy: 60.91%\n",
            "Iteration [13/25]: Sparsity: 94.50%, Accuracy: 60.27%\n",
            "Iteration [14/25]: Sparsity: 95.60%, Accuracy: 58.96%\n",
            "Iteration [15/25]: Sparsity: 96.48%, Accuracy: 57.86%\n",
            "Iteration [16/25]: Sparsity: 97.18%, Accuracy: 55.53%\n",
            "Iteration [17/25]: Sparsity: 97.75%, Accuracy: 53.15%\n",
            "Iteration [18/25]: Sparsity: 98.20%, Accuracy: 52.31%\n",
            "Iteration [19/25]: Sparsity: 98.56%, Accuracy: 44.58%\n",
            "Iteration [20/25]: Sparsity: 98.84%, Accuracy: 41.44%\n",
            "Iteration [21/25]: Sparsity: 99.07%, Accuracy: 22.13%\n",
            "Sparsity threshold (99.00%) reached, stopping.\n"
          ],
          "name": "stdout"
        }
      ]
    },
    {
      "cell_type": "code",
      "metadata": {
        "id": "ZKiYLVv3CxoQ"
      },
      "source": [
        "torch.save(cifar10_ip_history, 'cifar10_ip_history.pkl')"
      ],
      "execution_count": null,
      "outputs": []
    },
    {
      "cell_type": "markdown",
      "metadata": {
        "id": "wolwp-DzC8cE"
      },
      "source": [
        "Just for comparison, we'll plot the results from magnitude based pruning and OBD as well."
      ]
    },
    {
      "cell_type": "code",
      "metadata": {
        "id": "QVmrS7IF4vBz"
      },
      "source": [
        "cifar10_ip_history = torch.load('cifar10_ip_history.pkl')\n",
        "cifar10_prune_history = torch.load('cifar10_prune_history.pkl')\n",
        "cifar10_obd_history = torch.load('cifar10_obd_history.pkl')"
      ],
      "execution_count": 40,
      "outputs": []
    },
    {
      "cell_type": "code",
      "metadata": {
        "colab": {
          "base_uri": "https://localhost:8080/",
          "height": 295
        },
        "id": "LN-RYDn-C3xY",
        "outputId": "eddb5eba-1353-4f62-96ca-286b9cf691b8"
      },
      "source": [
        "plot_prune_histories(\n",
        "    [cifar10_prune_history, cifar10_obd_history, cifar10_ip_history], \n",
        "    ['Magnitude based', 'OBD', 'Iterative Pruning'], \n",
        "    title='Comparison on CIFAR-10'\n",
        ")"
      ],
      "execution_count": 41,
      "outputs": [
        {
          "output_type": "display_data",
          "data": {
            "image/png": "[encoded data removed]",
            "text/plain": [
              "<Figure size 432x288 with 1 Axes>"
            ]
          },
          "metadata": {
            "tags": [],
            "needs_background": "light"
          }
        }
      ]
    },
    {
      "cell_type": "markdown",
      "metadata": {
        "id": "4LGnfbraDbEE"
      },
      "source": [
        "Iterative pruning seems to be underperforming for lower sparsity values. This is weird. "
      ]
    },
    {
      "cell_type": "markdown",
      "metadata": {
        "id": "BlYV2v9HS0s3"
      },
      "source": [
        "## The Lottery Ticket Hypothesis\n",
        "\n",
        "The lottery ticket hypothesis (proposed by Frankle and Carbin, 2019) states that, at initialization, dense neural networks contain sparse subnetworks which can be trained to achieve performance similar to or better than the original dense networks. Such sparse trainable subnetworks are called _winning tickets_.\n",
        "\n",
        "Frankle and Carbin proposed a method to search winning tickets, called Iterative Magnitude Pruning (IMP). It is very similar to the iterative pruning method we've seen, except at each iteration, the weights of the remaining subnetwork are reset back to their initial values."
      ]
    },
    {
      "cell_type": "markdown",
      "metadata": {
        "id": "yMvyBwwl7wLc"
      },
      "source": [
        "### Function for pruning, reinitialization, and retraining"
      ]
    },
    {
      "cell_type": "markdown",
      "metadata": {
        "id": "xqIn1m4W77Qm"
      },
      "source": [
        "Here is an implementation of the Iterative Magnitude Pruning (IMP) method that Frankle and Carbin demonstrated to be able to find very sparse lottery tickets. This will be very similar to the iterative pruning method, except we will be resetting the remaining weights to their values at initialization."
      ]
    },
    {
      "cell_type": "code",
      "metadata": {
        "id": "5f4ReAoY7uzK"
      },
      "source": [
        "def imp(model, method, n_iters, train_loader, test_loader, opt_fn=optim.Adam, loss_fn=F.cross_entropy, lr=0.001, prune_frac=0.2, train_epochs=10, sparsity_threshold=0.99, importance_scores=None):\n",
        "  history = []\n",
        "\n",
        "  # Save initial weights\n",
        "  weight_dict = {}\n",
        "  for name, module in model.named_modules():\n",
        "    if isinstance(module, nn.Conv2d) or isinstance(module, nn.Linear):\n",
        "        weight_dict[name+'.weight'] = copy.deepcopy(module.weight.data)\n",
        "  \n",
        "  parameters_to_prune = get_parameters_to_prune(model)\n",
        "  for iter in range(n_iters):\n",
        "    # Train\n",
        "    fit(model, train_loader, train_epochs, opt_fn, loss_fn, lr=lr, print_every=1000000)\n",
        "\n",
        "    acc = test_accuracy(model, test_loader)\n",
        "    sparsity = calculate_sparsity(model)\n",
        "    print(f\"Iteration [{iter+1}/{n_iters}]: Sparsity: {100*sparsity:.2f}%, Accuracy: {100*acc:.2f}%\")\n",
        "    history.append((sparsity, acc))\n",
        "\n",
        "    \n",
        "    # Prune\n",
        "    prune.global_unstructured(\n",
        "        parameters_to_prune,\n",
        "        pruning_method=method,\n",
        "        importance_scores=importance_scores,\n",
        "        amount=prune_frac,  \n",
        "    )\n",
        "\n",
        "    # Reset weights\n",
        "    for name, module in model.named_modules():\n",
        "      if isinstance(module, nn.Conv2d) or isinstance(module, nn.Linear):\n",
        "        module.weight_orig.data.copy_(weight_dict[name+'.weight'].data)\n",
        "\n",
        "    if sparsity >= sparsity_threshold:\n",
        "      print('Sparsity threshold (%.2f'%(sparsity_threshold*100) + '%) reached, stopping.')\n",
        "      break\n",
        "\n",
        "  return history"
      ],
      "execution_count": 15,
      "outputs": []
    },
    {
      "cell_type": "markdown",
      "metadata": {
        "id": "U8332btQ98wb"
      },
      "source": [
        "### MNIST"
      ]
    },
    {
      "cell_type": "code",
      "metadata": {
        "id": "sZTKhTIN9_Ce"
      },
      "source": [
        "mnist_model = LeNet5(1, 28).to(device)"
      ],
      "execution_count": null,
      "outputs": []
    },
    {
      "cell_type": "code",
      "metadata": {
        "colab": {
          "base_uri": "https://localhost:8080/"
        },
        "id": "e_OiqUKw-10-",
        "outputId": "1e272df8-9360-40a1-acb0-75c5c7f8fc63"
      },
      "source": [
        "mnist_lth_history = imp(mnist_model, MyL1PruningMethod, 25, mnist_train_loader, mnist_test_loader)"
      ],
      "execution_count": null,
      "outputs": [
        {
          "output_type": "stream",
          "text": [
            "Iteration [1/25]: Sparsity: 0.00%, Accuracy: 98.85%\n",
            "Iteration [2/25]: Sparsity: 20.00%, Accuracy: 98.65%\n",
            "Iteration [3/25]: Sparsity: 36.00%, Accuracy: 98.64%\n",
            "Iteration [4/25]: Sparsity: 48.80%, Accuracy: 98.79%\n",
            "Iteration [5/25]: Sparsity: 59.04%, Accuracy: 98.77%\n",
            "Iteration [6/25]: Sparsity: 67.23%, Accuracy: 98.77%\n",
            "Iteration [7/25]: Sparsity: 73.78%, Accuracy: 98.73%\n",
            "Iteration [8/25]: Sparsity: 79.03%, Accuracy: 98.71%\n",
            "Iteration [9/25]: Sparsity: 83.22%, Accuracy: 98.66%\n",
            "Iteration [10/25]: Sparsity: 86.58%, Accuracy: 98.69%\n",
            "Iteration [11/25]: Sparsity: 89.26%, Accuracy: 98.77%\n",
            "Iteration [12/25]: Sparsity: 91.41%, Accuracy: 98.86%\n",
            "Iteration [13/25]: Sparsity: 93.12%, Accuracy: 98.80%\n",
            "Iteration [14/25]: Sparsity: 94.50%, Accuracy: 98.66%\n",
            "Iteration [15/25]: Sparsity: 95.60%, Accuracy: 98.62%\n",
            "Iteration [16/25]: Sparsity: 96.48%, Accuracy: 98.38%\n",
            "Iteration [17/25]: Sparsity: 97.18%, Accuracy: 98.25%\n",
            "Iteration [18/25]: Sparsity: 97.74%, Accuracy: 97.96%\n",
            "Iteration [19/25]: Sparsity: 98.20%, Accuracy: 97.87%\n",
            "Iteration [20/25]: Sparsity: 98.56%, Accuracy: 97.07%\n",
            "Iteration [21/25]: Sparsity: 98.84%, Accuracy: 96.22%\n",
            "Iteration [22/25]: Sparsity: 99.07%, Accuracy: 94.74%\n",
            "Sparsity threshold (99.00%) reached, stopping.\n"
          ],
          "name": "stdout"
        }
      ]
    },
    {
      "cell_type": "code",
      "metadata": {
        "id": "dXxsxG3jBC1b"
      },
      "source": [
        "torch.save(mnist_lth_history, 'mnist_lth_history.pkl')"
      ],
      "execution_count": null,
      "outputs": []
    },
    {
      "cell_type": "code",
      "metadata": {
        "colab": {
          "base_uri": "https://localhost:8080/",
          "height": 295
        },
        "id": "WDcxQeeEATql",
        "outputId": "4e68d178-fabd-4988-f3ce-5f2cf37baaa1"
      },
      "source": [
        "plot_prune_histories([mnist_lth_history], ['MNIST'], title='Finding winning tickets using IMP (MNIST)')"
      ],
      "execution_count": null,
      "outputs": [
        {
          "output_type": "display_data",
          "data": {
            "image/png": "[encoded data removed]",
            "text/plain": [
              "<Figure size 432x288 with 1 Axes>"
            ]
          },
          "metadata": {
            "tags": [],
            "needs_background": "light"
          }
        }
      ]
    },
    {
      "cell_type": "markdown",
      "metadata": {
        "id": "umYc4g_CAodi"
      },
      "source": [
        "### Fashion-MNIST"
      ]
    },
    {
      "cell_type": "code",
      "metadata": {
        "id": "jC0eyMtGArFa"
      },
      "source": [
        "fmnist_model = LeNet5(1, 28).to(device)"
      ],
      "execution_count": 16,
      "outputs": []
    },
    {
      "cell_type": "code",
      "metadata": {
        "id": "wCR9vhkmAtJ5",
        "colab": {
          "base_uri": "https://localhost:8080/"
        },
        "outputId": "334d4b58-602e-40d3-94b7-78322b74b97c"
      },
      "source": [
        "fmnist_lth_history = imp(fmnist_model, MyL1PruningMethod, 25, fmnist_train_loader, fmnist_test_loader)"
      ],
      "execution_count": 22,
      "outputs": [
        {
          "output_type": "stream",
          "text": [
            "Iteration [1/25]: Sparsity: 0.00%, Accuracy: 88.23%\n",
            "Iteration [2/25]: Sparsity: 20.00%, Accuracy: 88.48%\n",
            "Iteration [3/25]: Sparsity: 36.00%, Accuracy: 88.16%\n",
            "Iteration [4/25]: Sparsity: 48.80%, Accuracy: 88.47%\n",
            "Iteration [5/25]: Sparsity: 59.04%, Accuracy: 88.58%\n",
            "Iteration [6/25]: Sparsity: 67.23%, Accuracy: 88.55%\n",
            "Iteration [7/25]: Sparsity: 73.78%, Accuracy: 88.88%\n",
            "Iteration [8/25]: Sparsity: 79.03%, Accuracy: 88.96%\n",
            "Iteration [9/25]: Sparsity: 83.22%, Accuracy: 88.84%\n",
            "Iteration [10/25]: Sparsity: 86.58%, Accuracy: 88.65%\n",
            "Iteration [11/25]: Sparsity: 89.26%, Accuracy: 88.54%\n",
            "Iteration [12/25]: Sparsity: 91.41%, Accuracy: 88.65%\n",
            "Iteration [13/25]: Sparsity: 93.12%, Accuracy: 88.44%\n",
            "Iteration [14/25]: Sparsity: 94.50%, Accuracy: 88.37%\n",
            "Iteration [15/25]: Sparsity: 95.60%, Accuracy: 88.13%\n",
            "Iteration [16/25]: Sparsity: 96.48%, Accuracy: 87.81%\n",
            "Iteration [17/25]: Sparsity: 97.18%, Accuracy: 87.02%\n",
            "Iteration [18/25]: Sparsity: 97.74%, Accuracy: 86.54%\n",
            "Iteration [19/25]: Sparsity: 98.20%, Accuracy: 85.47%\n",
            "Iteration [20/25]: Sparsity: 98.56%, Accuracy: 83.99%\n",
            "Iteration [21/25]: Sparsity: 98.84%, Accuracy: 83.00%\n",
            "Iteration [22/25]: Sparsity: 99.07%, Accuracy: 81.43%\n",
            "Sparsity threshold (99.00%) reached, stopping.\n"
          ],
          "name": "stdout"
        }
      ]
    },
    {
      "cell_type": "code",
      "metadata": {
        "id": "VvdnJvb-BTSr"
      },
      "source": [
        "torch.save(fmnist_lth_history, 'fmnist_lth_history.pkl')"
      ],
      "execution_count": 23,
      "outputs": []
    },
    {
      "cell_type": "code",
      "metadata": {
        "id": "s6gtgm4yA35x",
        "colab": {
          "base_uri": "https://localhost:8080/",
          "height": 295
        },
        "outputId": "c900aad6-f376-4f72-941d-1425f66e2bea"
      },
      "source": [
        "plot_prune_histories([fmnist_lth_history], ['Fashion-MNIST'], title='Finding winning tickets using IMP (Fashion-MNIST)')"
      ],
      "execution_count": 26,
      "outputs": [
        {
          "output_type": "display_data",
          "data": {
            "image/png": "[encoded data removed]",
            "text/plain": [
              "<Figure size 432x288 with 1 Axes>"
            ]
          },
          "metadata": {
            "tags": [],
            "needs_background": "light"
          }
        }
      ]
    },
    {
      "cell_type": "markdown",
      "metadata": {
        "id": "_BSToldOBdct"
      },
      "source": [
        "### CIFAR-10"
      ]
    },
    {
      "cell_type": "code",
      "metadata": {
        "id": "IjbAQnKqDOvR"
      },
      "source": [
        "cifar10_model = LeNet5(3, 32).to(device)"
      ],
      "execution_count": 27,
      "outputs": []
    },
    {
      "cell_type": "markdown",
      "metadata": {
        "id": "Y2foaDmKuMbT"
      },
      "source": [
        "Since CIFAR-10 is a harder dataset, we'll give 15 training epoch after each pruning iteration."
      ]
    },
    {
      "cell_type": "code",
      "metadata": {
        "id": "cCKIh7nNDWbQ",
        "colab": {
          "base_uri": "https://localhost:8080/"
        },
        "outputId": "6c58ee0a-7ed4-418b-fb1b-d8efc22e1ad4"
      },
      "source": [
        "cifar10_lth_history = imp(\n",
        "    cifar10_model, \n",
        "    MyL1PruningMethod, \n",
        "    25, \n",
        "    cifar10_train_loader, \n",
        "    cifar10_test_loader, \n",
        "    train_epochs=15\n",
        ")"
      ],
      "execution_count": 29,
      "outputs": [
        {
          "output_type": "stream",
          "text": [
            "Iteration [1/25]: Sparsity: 0.00%, Accuracy: 61.48%\n",
            "Iteration [2/25]: Sparsity: 20.00%, Accuracy: 60.68%\n",
            "Iteration [3/25]: Sparsity: 36.00%, Accuracy: 59.56%\n",
            "Iteration [4/25]: Sparsity: 48.80%, Accuracy: 59.94%\n",
            "Iteration [5/25]: Sparsity: 59.04%, Accuracy: 59.93%\n",
            "Iteration [6/25]: Sparsity: 67.23%, Accuracy: 59.91%\n",
            "Iteration [7/25]: Sparsity: 73.78%, Accuracy: 58.98%\n",
            "Iteration [8/25]: Sparsity: 79.03%, Accuracy: 58.18%\n",
            "Iteration [9/25]: Sparsity: 83.22%, Accuracy: 56.66%\n",
            "Iteration [10/25]: Sparsity: 86.58%, Accuracy: 56.09%\n",
            "Iteration [11/25]: Sparsity: 89.26%, Accuracy: 57.00%\n",
            "Iteration [12/25]: Sparsity: 91.41%, Accuracy: 54.51%\n",
            "Iteration [13/25]: Sparsity: 93.13%, Accuracy: 54.96%\n",
            "Iteration [14/25]: Sparsity: 94.50%, Accuracy: 52.27%\n",
            "Iteration [15/25]: Sparsity: 95.60%, Accuracy: 51.82%\n",
            "Iteration [16/25]: Sparsity: 96.48%, Accuracy: 51.55%\n",
            "Iteration [17/25]: Sparsity: 97.18%, Accuracy: 51.19%\n",
            "Iteration [18/25]: Sparsity: 97.75%, Accuracy: 51.17%\n",
            "Iteration [19/25]: Sparsity: 98.20%, Accuracy: 50.64%\n",
            "Iteration [20/25]: Sparsity: 98.56%, Accuracy: 49.97%\n",
            "Iteration [21/25]: Sparsity: 98.84%, Accuracy: 50.10%\n",
            "Iteration [22/25]: Sparsity: 99.07%, Accuracy: 46.41%\n",
            "Sparsity threshold (99.00%) reached, stopping.\n"
          ],
          "name": "stdout"
        }
      ]
    },
    {
      "cell_type": "code",
      "metadata": {
        "id": "_M3Ts_faDg0C"
      },
      "source": [
        "torch.save(cifar10_lth_history, 'cifar10_lth_history.pkl')"
      ],
      "execution_count": 33,
      "outputs": []
    },
    {
      "cell_type": "code",
      "metadata": {
        "colab": {
          "base_uri": "https://localhost:8080/"
        },
        "id": "0JD36ivQ2CJQ",
        "outputId": "fdfdf430-d43c-41d5-ba9f-6e1856a75a65"
      },
      "source": [
        "cifar10_lth_history"
      ],
      "execution_count": 35,
      "outputs": [
        {
          "output_type": "execute_result",
          "data": {
            "text/plain": [
              "[(0.0, 0.6148),\n",
              " (0.199997532874448, 0.6068),\n",
              " (0.35999062492290235, 0.5956),\n",
              " (0.4879850985616658, 0.5994),\n",
              " (0.5903831445982286, 0.5993),\n",
              " (0.6723040485530308, 0.5991),\n",
              " (0.7378432388424246, 0.5898),\n",
              " (0.7902696568228357, 0.5818),\n",
              " (0.8322107912071646, 0.5666),\n",
              " (0.8657636987146275, 0.5609),\n",
              " (0.892606024720598, 0.57),\n",
              " (0.9140823526509264, 0.5451),\n",
              " (0.9312658821207411, 0.5496),\n",
              " (0.9450077714454889, 0.5227),\n",
              " (0.955998815779735, 0.5182),\n",
              " (0.964794118372684, 0.5155),\n",
              " (0.9718254261959391, 0.5119),\n",
              " (0.9774504724545432, 0.5117),\n",
              " (0.9819529765869786, 0.5064),\n",
              " (0.9855549798929267, 0.4997),\n",
              " (0.9884415167887893, 0.501),\n",
              " (0.9907482791799275, 0.4641)]"
            ]
          },
          "metadata": {
            "tags": []
          },
          "execution_count": 35
        }
      ]
    },
    {
      "cell_type": "code",
      "metadata": {
        "id": "etbW24e3Dse7",
        "colab": {
          "base_uri": "https://localhost:8080/",
          "height": 295
        },
        "outputId": "d37fa9a5-7716-4d4a-b586-91115f5efbdd"
      },
      "source": [
        "plot_prune_histories(\n",
        "    [cifar10_lth_history], \n",
        "    ['CIFAR-10'], \n",
        "    title='Finding winning tickets using IMP (CIFAR-10)'\n",
        ")"
      ],
      "execution_count": 34,
      "outputs": [
        {
          "output_type": "display_data",
          "data": {
            "image/png": "[encoded data removed]",
            "text/plain": [
              "<Figure size 432x288 with 1 Axes>"
            ]
          },
          "metadata": {
            "tags": [],
            "needs_background": "light"
          }
        }
      ]
    },
    {
      "cell_type": "markdown",
      "metadata": {
        "id": "OYBan7jH1LLs"
      },
      "source": [
        "This time, it was we couldn't find very sparse tickets that matched the original network's performance. This might be because we need to put in more training iterations after each pruning iteration, since LeNet is pretty slow to train on CIFAR-10. Regardless, we can see that the subnetworks we get have a performance close enough to the original network (61.9% vs 59.9% accuracy at 67% sparsity).\n",
        "\n",
        "Overall the results on CIFAR-10 are inconclusive, but hint at the need for a larger architecture."
      ]
    },
    {
      "cell_type": "markdown",
      "metadata": {
        "id": "n9n5OIAX3TCP"
      },
      "source": [
        "### All three"
      ]
    },
    {
      "cell_type": "code",
      "metadata": {
        "colab": {
          "base_uri": "https://localhost:8080/",
          "height": 295
        },
        "id": "luVDq2CS3Shb",
        "outputId": "05abcb7a-ad39-4e3a-a843-00a3fea82e2b"
      },
      "source": [
        "# Let's plot the performance of IMP for all three datasets\n",
        "plot_prune_histories(\n",
        "    [mnist_lth_history, fmnist_lth_history, cifar10_lth_history], \n",
        "    ['MNIST', 'Fashion-MNIST', 'CIFAR10'], \n",
        "    title='Iterative Magnitude Pruning'\n",
        ")"
      ],
      "execution_count": 39,
      "outputs": [
        {
          "output_type": "display_data",
          "data": {
            "image/png": "[encoded data removed]",
            "text/plain": [
              "<Figure size 432x288 with 1 Axes>"
            ]
          },
          "metadata": {
            "tags": [],
            "needs_background": "light"
          }
        }
      ]
    },
    {
      "cell_type": "markdown",
      "metadata": {
        "id": "xOQbTnQlBvsZ"
      },
      "source": [
        "## Conclusions"
      ]
    },
    {
      "cell_type": "markdown",
      "metadata": {
        "id": "yLbivEy51hgJ"
      },
      "source": [
        "We saw implementations of magnitude based pruning, Optimal Brain Damage, and iterative pruning. For single-shot pruning, Optimal Brain Damage performed consistently better than magnitude based pruning. However, because of the way gradients are calculated in PyTorch, it is currently prohibitively expensive. Iterative pruning far outperforms either of these techniques, but needs a huge amount of time.\n",
        "\n",
        "From the graphs we plotted, at least for MNIST and Fashion-MNIST, it seems that even at 97% sparsity, the _tickets_ we found have performance close to the unpruned model in terms of test accuracy in 10 epochs of training. Hence, at least for this setting and the limited number of epochs we put in, it seems that the lottery ticket hypothesis holds a lot of promise."
      ]
    }
  ]
}